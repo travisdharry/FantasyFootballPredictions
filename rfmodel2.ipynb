{
 "cells": [
  {
   "cell_type": "code",
   "execution_count": 1,
   "metadata": {},
   "outputs": [],
   "source": [
    "import pandas as pd\n",
    "\n",
    "from sklearn.ensemble import RandomForestRegressor\n",
    "from sklearn.model_selection import train_test_split\n",
    "from sklearn.metrics import r2_score\n",
    "from sklearn import metrics\n",
    "from sklearn.linear_model import LinearRegression\n",
    "from sklearn.preprocessing import OneHotEncoder\n",
    "\n",
    "from joblib import dump, load\n",
    "\n",
    "import numpy as np"
   ]
  },
  {
   "cell_type": "code",
   "execution_count": 16,
   "metadata": {},
   "outputs": [
    {
     "data": {
      "text/plain": [
       "Index(['season', 'week', 'team', 'player', 'age', 'pos', 'posRank', 'opponent',\n",
       "       'passA', 'passC', 'passY', 'passT', 'passI', 'pass2', 'rushA', 'rushY',\n",
       "       'rushT', 'rush2', 'recC', 'recY'],\n",
       "      dtype='object')"
      ]
     },
     "execution_count": 16,
     "metadata": {},
     "output_type": "execute_result"
    }
   ],
   "source": [
    "# Read player model\n",
    "xl1 = pd.read_csv('data_cleaned/modelSource.csv', index_col=0)\n",
    "xl1.columns[0:20]"
   ]
  },
  {
   "cell_type": "code",
   "execution_count": 17,
   "metadata": {},
   "outputs": [],
   "source": [
    "# merge in ages\n",
    "#xl1 = xl1.merge(xl2, how='left', on=['player', 'season', 'team', 'pos'])\n",
    "#xl1 = xl1.dropna()\n",
    "#xl1 = xl1.drop(columns=['week_y'])\n",
    "#xl1 = xl1.rename(columns={'week_x':'week'})"
   ]
  },
  {
   "cell_type": "code",
   "execution_count": 18,
   "metadata": {},
   "outputs": [],
   "source": [
    "# Define features and labels\n",
    "y = xl1[[\n",
    "'passA',\n",
    "'passC',\n",
    "'passY',\n",
    "'passT',\n",
    "'passI',\n",
    "'pass2',\n",
    "'rushA',\n",
    "'rushY',\n",
    "'rushT',\n",
    "'rush2',\n",
    "'recC',\n",
    "'recY',\n",
    "'recT',\n",
    "'rec2',\n",
    "'fum',\n",
    "'XPA',\n",
    "'XPM',\n",
    "'FGA',\n",
    "'FGM',\n",
    "'FG50',\n",
    "'defSack',\n",
    "'defI',\n",
    "'defSaf',\n",
    "'defFum',\n",
    "'defBlk',\n",
    "'defT',\n",
    "'defPtsAgainst',\n",
    "'defPassYAgainst',\n",
    "'defRushYAgainst',\n",
    "'defYdsAgainst'                                 \n",
    "]]\n",
    "\n",
    "X = xl1[[\n",
    "    'week',\n",
    "    'age',\n",
    "    'gamesPlayed_curr',\n",
    "    'passC_curr',\n",
    "    'passY_curr',\n",
    "    'rushY_curr',\n",
    "    'recC_curr',\n",
    "    'recY_curr',\n",
    "    'XPM_curr',\n",
    "    'FGM_curr',\n",
    "    'defYdsAgainst_curr',\n",
    "    'gamesPlayed_prior2',\n",
    "    'passC_prior2',\n",
    "    'passY_prior2',\n",
    "    'rushY_prior2',\n",
    "    'recC_prior2',\n",
    "    'recY_prior2',\n",
    "    'XPM_prior2',\n",
    "    'FGM_prior2',\n",
    "    'defYdsAgainst_prior2',\n",
    "    'defPassYAgainst_curr_opp',\n",
    "    'defRushYAgainst_curr_opp',\n",
    "    'defPassYAgainst_prior1_opp',\n",
    "    'defRushYAgainst_prior1_opp',\n",
    "    'pos',\n",
    "    'posRank'\n",
    "]]\n",
    "\n",
    "droppedCols = xl1[['season', 'week', 'team', 'player', 'age', 'pos', 'posRank', 'opponent']]"
   ]
  },
  {
   "cell_type": "code",
   "execution_count": 19,
   "metadata": {},
   "outputs": [
    {
     "data": {
      "text/html": [
       "<div>\n",
       "<style scoped>\n",
       "    .dataframe tbody tr th:only-of-type {\n",
       "        vertical-align: middle;\n",
       "    }\n",
       "\n",
       "    .dataframe tbody tr th {\n",
       "        vertical-align: top;\n",
       "    }\n",
       "\n",
       "    .dataframe thead th {\n",
       "        text-align: right;\n",
       "    }\n",
       "</style>\n",
       "<table border=\"1\" class=\"dataframe\">\n",
       "  <thead>\n",
       "    <tr style=\"text-align: right;\">\n",
       "      <th></th>\n",
       "      <th>week</th>\n",
       "      <th>age</th>\n",
       "      <th>gamesPlayed_curr</th>\n",
       "      <th>passC_curr</th>\n",
       "      <th>passY_curr</th>\n",
       "      <th>rushY_curr</th>\n",
       "      <th>recC_curr</th>\n",
       "      <th>recY_curr</th>\n",
       "      <th>XPM_curr</th>\n",
       "      <th>FGM_curr</th>\n",
       "      <th>...</th>\n",
       "      <th>posRank_QB3</th>\n",
       "      <th>posRank_RB1</th>\n",
       "      <th>posRank_RB2</th>\n",
       "      <th>posRank_RB3</th>\n",
       "      <th>posRank_TE1</th>\n",
       "      <th>posRank_TE2</th>\n",
       "      <th>posRank_TE3</th>\n",
       "      <th>posRank_WR1</th>\n",
       "      <th>posRank_WR2</th>\n",
       "      <th>posRank_WR3</th>\n",
       "    </tr>\n",
       "  </thead>\n",
       "  <tbody>\n",
       "    <tr>\n",
       "      <th>0</th>\n",
       "      <td>1.0</td>\n",
       "      <td>27.0</td>\n",
       "      <td>0</td>\n",
       "      <td>0.0</td>\n",
       "      <td>0.0</td>\n",
       "      <td>0.0</td>\n",
       "      <td>0.0</td>\n",
       "      <td>0.0</td>\n",
       "      <td>0.0</td>\n",
       "      <td>0.0</td>\n",
       "      <td>...</td>\n",
       "      <td>0</td>\n",
       "      <td>0</td>\n",
       "      <td>0</td>\n",
       "      <td>0</td>\n",
       "      <td>0</td>\n",
       "      <td>0</td>\n",
       "      <td>0</td>\n",
       "      <td>0</td>\n",
       "      <td>0</td>\n",
       "      <td>0</td>\n",
       "    </tr>\n",
       "    <tr>\n",
       "      <th>1</th>\n",
       "      <td>1.0</td>\n",
       "      <td>32.0</td>\n",
       "      <td>0</td>\n",
       "      <td>0.0</td>\n",
       "      <td>0.0</td>\n",
       "      <td>0.0</td>\n",
       "      <td>0.0</td>\n",
       "      <td>0.0</td>\n",
       "      <td>0.0</td>\n",
       "      <td>0.0</td>\n",
       "      <td>...</td>\n",
       "      <td>0</td>\n",
       "      <td>0</td>\n",
       "      <td>0</td>\n",
       "      <td>0</td>\n",
       "      <td>0</td>\n",
       "      <td>0</td>\n",
       "      <td>0</td>\n",
       "      <td>0</td>\n",
       "      <td>0</td>\n",
       "      <td>0</td>\n",
       "    </tr>\n",
       "    <tr>\n",
       "      <th>2</th>\n",
       "      <td>1.0</td>\n",
       "      <td>22.0</td>\n",
       "      <td>0</td>\n",
       "      <td>0.0</td>\n",
       "      <td>0.0</td>\n",
       "      <td>0.0</td>\n",
       "      <td>0.0</td>\n",
       "      <td>0.0</td>\n",
       "      <td>0.0</td>\n",
       "      <td>0.0</td>\n",
       "      <td>...</td>\n",
       "      <td>0</td>\n",
       "      <td>0</td>\n",
       "      <td>0</td>\n",
       "      <td>0</td>\n",
       "      <td>0</td>\n",
       "      <td>0</td>\n",
       "      <td>0</td>\n",
       "      <td>0</td>\n",
       "      <td>0</td>\n",
       "      <td>0</td>\n",
       "    </tr>\n",
       "    <tr>\n",
       "      <th>3</th>\n",
       "      <td>1.0</td>\n",
       "      <td>33.0</td>\n",
       "      <td>0</td>\n",
       "      <td>0.0</td>\n",
       "      <td>0.0</td>\n",
       "      <td>0.0</td>\n",
       "      <td>0.0</td>\n",
       "      <td>0.0</td>\n",
       "      <td>0.0</td>\n",
       "      <td>0.0</td>\n",
       "      <td>...</td>\n",
       "      <td>0</td>\n",
       "      <td>0</td>\n",
       "      <td>0</td>\n",
       "      <td>0</td>\n",
       "      <td>0</td>\n",
       "      <td>0</td>\n",
       "      <td>0</td>\n",
       "      <td>0</td>\n",
       "      <td>0</td>\n",
       "      <td>0</td>\n",
       "    </tr>\n",
       "    <tr>\n",
       "      <th>4</th>\n",
       "      <td>1.0</td>\n",
       "      <td>29.0</td>\n",
       "      <td>0</td>\n",
       "      <td>0.0</td>\n",
       "      <td>0.0</td>\n",
       "      <td>0.0</td>\n",
       "      <td>0.0</td>\n",
       "      <td>0.0</td>\n",
       "      <td>0.0</td>\n",
       "      <td>0.0</td>\n",
       "      <td>...</td>\n",
       "      <td>0</td>\n",
       "      <td>0</td>\n",
       "      <td>0</td>\n",
       "      <td>0</td>\n",
       "      <td>0</td>\n",
       "      <td>0</td>\n",
       "      <td>0</td>\n",
       "      <td>0</td>\n",
       "      <td>0</td>\n",
       "      <td>0</td>\n",
       "    </tr>\n",
       "    <tr>\n",
       "      <th>...</th>\n",
       "      <td>...</td>\n",
       "      <td>...</td>\n",
       "      <td>...</td>\n",
       "      <td>...</td>\n",
       "      <td>...</td>\n",
       "      <td>...</td>\n",
       "      <td>...</td>\n",
       "      <td>...</td>\n",
       "      <td>...</td>\n",
       "      <td>...</td>\n",
       "      <td>...</td>\n",
       "      <td>...</td>\n",
       "      <td>...</td>\n",
       "      <td>...</td>\n",
       "      <td>...</td>\n",
       "      <td>...</td>\n",
       "      <td>...</td>\n",
       "      <td>...</td>\n",
       "      <td>...</td>\n",
       "      <td>...</td>\n",
       "      <td>...</td>\n",
       "    </tr>\n",
       "    <tr>\n",
       "      <th>57478</th>\n",
       "      <td>17.0</td>\n",
       "      <td>0.0</td>\n",
       "      <td>15</td>\n",
       "      <td>0.0</td>\n",
       "      <td>0.0</td>\n",
       "      <td>0.0</td>\n",
       "      <td>0.0</td>\n",
       "      <td>0.0</td>\n",
       "      <td>0.0</td>\n",
       "      <td>0.0</td>\n",
       "      <td>...</td>\n",
       "      <td>0</td>\n",
       "      <td>0</td>\n",
       "      <td>0</td>\n",
       "      <td>0</td>\n",
       "      <td>0</td>\n",
       "      <td>0</td>\n",
       "      <td>0</td>\n",
       "      <td>0</td>\n",
       "      <td>0</td>\n",
       "      <td>0</td>\n",
       "    </tr>\n",
       "    <tr>\n",
       "      <th>57479</th>\n",
       "      <td>17.0</td>\n",
       "      <td>0.0</td>\n",
       "      <td>15</td>\n",
       "      <td>0.0</td>\n",
       "      <td>0.0</td>\n",
       "      <td>0.0</td>\n",
       "      <td>0.0</td>\n",
       "      <td>0.0</td>\n",
       "      <td>0.0</td>\n",
       "      <td>0.0</td>\n",
       "      <td>...</td>\n",
       "      <td>0</td>\n",
       "      <td>0</td>\n",
       "      <td>0</td>\n",
       "      <td>0</td>\n",
       "      <td>0</td>\n",
       "      <td>0</td>\n",
       "      <td>0</td>\n",
       "      <td>0</td>\n",
       "      <td>0</td>\n",
       "      <td>0</td>\n",
       "    </tr>\n",
       "    <tr>\n",
       "      <th>57480</th>\n",
       "      <td>17.0</td>\n",
       "      <td>0.0</td>\n",
       "      <td>15</td>\n",
       "      <td>0.0</td>\n",
       "      <td>0.0</td>\n",
       "      <td>0.0</td>\n",
       "      <td>0.0</td>\n",
       "      <td>0.0</td>\n",
       "      <td>0.0</td>\n",
       "      <td>0.0</td>\n",
       "      <td>...</td>\n",
       "      <td>0</td>\n",
       "      <td>0</td>\n",
       "      <td>0</td>\n",
       "      <td>0</td>\n",
       "      <td>0</td>\n",
       "      <td>0</td>\n",
       "      <td>0</td>\n",
       "      <td>0</td>\n",
       "      <td>0</td>\n",
       "      <td>0</td>\n",
       "    </tr>\n",
       "    <tr>\n",
       "      <th>57481</th>\n",
       "      <td>17.0</td>\n",
       "      <td>0.0</td>\n",
       "      <td>15</td>\n",
       "      <td>0.0</td>\n",
       "      <td>0.0</td>\n",
       "      <td>0.0</td>\n",
       "      <td>0.0</td>\n",
       "      <td>0.0</td>\n",
       "      <td>0.0</td>\n",
       "      <td>0.0</td>\n",
       "      <td>...</td>\n",
       "      <td>0</td>\n",
       "      <td>0</td>\n",
       "      <td>0</td>\n",
       "      <td>0</td>\n",
       "      <td>0</td>\n",
       "      <td>0</td>\n",
       "      <td>0</td>\n",
       "      <td>0</td>\n",
       "      <td>0</td>\n",
       "      <td>0</td>\n",
       "    </tr>\n",
       "    <tr>\n",
       "      <th>57482</th>\n",
       "      <td>17.0</td>\n",
       "      <td>0.0</td>\n",
       "      <td>15</td>\n",
       "      <td>0.0</td>\n",
       "      <td>0.0</td>\n",
       "      <td>0.0</td>\n",
       "      <td>0.0</td>\n",
       "      <td>0.0</td>\n",
       "      <td>0.0</td>\n",
       "      <td>0.0</td>\n",
       "      <td>...</td>\n",
       "      <td>0</td>\n",
       "      <td>0</td>\n",
       "      <td>0</td>\n",
       "      <td>0</td>\n",
       "      <td>0</td>\n",
       "      <td>0</td>\n",
       "      <td>0</td>\n",
       "      <td>0</td>\n",
       "      <td>0</td>\n",
       "      <td>0</td>\n",
       "    </tr>\n",
       "  </tbody>\n",
       "</table>\n",
       "<p>56768 rows × 46 columns</p>\n",
       "</div>"
      ],
      "text/plain": [
       "       week   age  gamesPlayed_curr  passC_curr  passY_curr  rushY_curr  \\\n",
       "0       1.0  27.0                 0         0.0         0.0         0.0   \n",
       "1       1.0  32.0                 0         0.0         0.0         0.0   \n",
       "2       1.0  22.0                 0         0.0         0.0         0.0   \n",
       "3       1.0  33.0                 0         0.0         0.0         0.0   \n",
       "4       1.0  29.0                 0         0.0         0.0         0.0   \n",
       "...     ...   ...               ...         ...         ...         ...   \n",
       "57478  17.0   0.0                15         0.0         0.0         0.0   \n",
       "57479  17.0   0.0                15         0.0         0.0         0.0   \n",
       "57480  17.0   0.0                15         0.0         0.0         0.0   \n",
       "57481  17.0   0.0                15         0.0         0.0         0.0   \n",
       "57482  17.0   0.0                15         0.0         0.0         0.0   \n",
       "\n",
       "       recC_curr  recY_curr  XPM_curr  FGM_curr  ...  posRank_QB3  \\\n",
       "0            0.0        0.0       0.0       0.0  ...            0   \n",
       "1            0.0        0.0       0.0       0.0  ...            0   \n",
       "2            0.0        0.0       0.0       0.0  ...            0   \n",
       "3            0.0        0.0       0.0       0.0  ...            0   \n",
       "4            0.0        0.0       0.0       0.0  ...            0   \n",
       "...          ...        ...       ...       ...  ...          ...   \n",
       "57478        0.0        0.0       0.0       0.0  ...            0   \n",
       "57479        0.0        0.0       0.0       0.0  ...            0   \n",
       "57480        0.0        0.0       0.0       0.0  ...            0   \n",
       "57481        0.0        0.0       0.0       0.0  ...            0   \n",
       "57482        0.0        0.0       0.0       0.0  ...            0   \n",
       "\n",
       "       posRank_RB1  posRank_RB2  posRank_RB3  posRank_TE1  posRank_TE2  \\\n",
       "0                0            0            0            0            0   \n",
       "1                0            0            0            0            0   \n",
       "2                0            0            0            0            0   \n",
       "3                0            0            0            0            0   \n",
       "4                0            0            0            0            0   \n",
       "...            ...          ...          ...          ...          ...   \n",
       "57478            0            0            0            0            0   \n",
       "57479            0            0            0            0            0   \n",
       "57480            0            0            0            0            0   \n",
       "57481            0            0            0            0            0   \n",
       "57482            0            0            0            0            0   \n",
       "\n",
       "       posRank_TE3  posRank_WR1  posRank_WR2  posRank_WR3  \n",
       "0                0            0            0            0  \n",
       "1                0            0            0            0  \n",
       "2                0            0            0            0  \n",
       "3                0            0            0            0  \n",
       "4                0            0            0            0  \n",
       "...            ...          ...          ...          ...  \n",
       "57478            0            0            0            0  \n",
       "57479            0            0            0            0  \n",
       "57480            0            0            0            0  \n",
       "57481            0            0            0            0  \n",
       "57482            0            0            0            0  \n",
       "\n",
       "[56768 rows x 46 columns]"
      ]
     },
     "execution_count": 19,
     "metadata": {},
     "output_type": "execute_result"
    }
   ],
   "source": [
    "# Encode categorical features\n",
    "X = pd.get_dummies(X, columns = ['pos', 'posRank'])\n",
    "X"
   ]
  },
  {
   "cell_type": "code",
   "execution_count": 20,
   "metadata": {},
   "outputs": [
    {
     "data": {
      "text/plain": [
       "Index(['week', 'age', 'gamesPlayed_curr', 'passC_curr', 'passY_curr',\n",
       "       'rushY_curr', 'recC_curr', 'recY_curr', 'XPM_curr', 'FGM_curr',\n",
       "       'defYdsAgainst_curr', 'gamesPlayed_prior2', 'passC_prior2',\n",
       "       'passY_prior2', 'rushY_prior2', 'recC_prior2', 'recY_prior2',\n",
       "       'XPM_prior2', 'FGM_prior2', 'defYdsAgainst_prior2',\n",
       "       'defPassYAgainst_curr_opp', 'defRushYAgainst_curr_opp',\n",
       "       'defPassYAgainst_prior1_opp', 'defRushYAgainst_prior1_opp', 'pos_DF',\n",
       "       'pos_PK', 'pos_QB', 'pos_RB', 'pos_TE', 'pos_WR'],\n",
       "      dtype='object')"
      ]
     },
     "execution_count": 20,
     "metadata": {},
     "output_type": "execute_result"
    }
   ],
   "source": [
    "X.columns[:30]"
   ]
  },
  {
   "cell_type": "code",
   "execution_count": 21,
   "metadata": {},
   "outputs": [],
   "source": [
    "X_train, X_test, y_train, y_test = train_test_split(X, y, test_size=0.2, random_state=1)\n"
   ]
  },
  {
   "cell_type": "code",
   "execution_count": 22,
   "metadata": {},
   "outputs": [
    {
     "name": "stdout",
     "output_type": "stream",
     "text": [
      "R2:  0.5726937011693012\n"
     ]
    }
   ],
   "source": [
    "# Create a baseline prediction using the player's previous year statistics\n",
    "colList = [\n",
    "    'passC_prior2',\n",
    "    'passY_prior2',\n",
    "    'rushY_prior2',\n",
    "    'recC_prior2',\n",
    "    'recY_prior2',\n",
    "    'XPM_prior2',\n",
    "    'FGM_prior2',\n",
    "    'defYdsAgainst_prior2']\n",
    "yColList = [    \n",
    "    'passC',\n",
    "    'passY',\n",
    "    'rushY',\n",
    "    'recC',\n",
    "    'recY',\n",
    "    'XPM',\n",
    "    'FGM',\n",
    "    'defYdsAgainst']\n",
    "base_pred = X_test[colList]\n",
    "\n",
    "r2 = r2_score(y_test[yColList], base_pred)\n",
    "\n",
    "print(\"R2: \", r2)"
   ]
  },
  {
   "cell_type": "code",
   "execution_count": 22,
   "metadata": {},
   "outputs": [
    {
     "name": "stdout",
     "output_type": "stream",
     "text": [
      "R2:  0.40067978787163055\n",
      "R2 Adjusted:  0.3927989001421771\n",
      "Mean Absolute Error (MAE): 1.7013323837354124\n",
      "Mean Squared Error (MSE): 91.76656762983988\n"
     ]
    }
   ],
   "source": [
    "regressor = RandomForestRegressor(n_estimators=70, max_depth=6, random_state=1)\n",
    "regressor.fit(X_train, y_train)\n",
    "y_pred = regressor.predict(X_test)\n",
    "\n",
    "r2 = r2_score(y_test, y_pred)\n",
    "\n",
    "print(\"R2: \", r2)\n",
    "print(\"R2 Adjusted: \", (1 - (1-r2)*(len(y_test)-1)/(len(y_test)-len(X.columns)-1)))\n",
    "print('Mean Absolute Error (MAE):', metrics.mean_absolute_error(y_test, y_pred))\n",
    "print('Mean Squared Error (MSE):', metrics.mean_squared_error(y_test, y_pred))"
   ]
  },
  {
   "cell_type": "code",
   "execution_count": 37,
   "metadata": {},
   "outputs": [
    {
     "name": "stdout",
     "output_type": "stream",
     "text": [
      "R2:  0.49592972158374954\n",
      "R2 Adjusted:  0.48930134297818706\n",
      "Mean Absolute Error (MAE): 1.499207436581209\n",
      "Mean Squared Error (MSE): 86.51795773782285\n"
     ]
    }
   ],
   "source": [
    "regressor = RandomForestRegressor(n_estimators=35, max_depth=12, random_state=1)\n",
    "regressor.fit(X_train, y_train)\n",
    "y_pred = regressor.predict(X_test)\n",
    "\n",
    "r2 = r2_score(y_test, y_pred)\n",
    "\n",
    "print(\"R2: \", r2)\n",
    "print(\"R2 Adjusted: \", (1 - (1-r2)*(len(y_test)-1)/(len(y_test)-len(X.columns)-1)))\n",
    "print('Mean Absolute Error (MAE):', metrics.mean_absolute_error(y_test, y_pred))\n",
    "print('Mean Squared Error (MSE):', metrics.mean_squared_error(y_test, y_pred))"
   ]
  },
  {
   "cell_type": "code",
   "execution_count": 38,
   "metadata": {},
   "outputs": [
    {
     "name": "stdout",
     "output_type": "stream",
     "text": [
      "R2:  0.49774126596261586\n",
      "R2 Adjusted:  0.491136708642533\n",
      "Mean Absolute Error (MAE): 1.4937951194156518\n",
      "Mean Squared Error (MSE): 85.76441487675659\n"
     ]
    }
   ],
   "source": [
    "regressor = RandomForestRegressor(n_estimators=150, max_depth=12, random_state=1)\n",
    "regressor.fit(X_train, y_train)\n",
    "y_pred = regressor.predict(X_test)\n",
    "\n",
    "r2 = r2_score(y_test, y_pred)\n",
    "\n",
    "print(\"R2: \", r2)\n",
    "print(\"R2 Adjusted: \", (1 - (1-r2)*(len(y_test)-1)/(len(y_test)-len(X.columns)-1)))\n",
    "print('Mean Absolute Error (MAE):', metrics.mean_absolute_error(y_test, y_pred))\n",
    "print('Mean Squared Error (MSE):', metrics.mean_squared_error(y_test, y_pred))"
   ]
  },
  {
   "cell_type": "code",
   "execution_count": 52,
   "metadata": {},
   "outputs": [
    {
     "name": "stdout",
     "output_type": "stream",
     "text": [
      "0.4088380661692439\n",
      "0.40051586384672755\n"
     ]
    }
   ],
   "source": [
    "# Adjust n_estimators hyperparameter \n",
    "regressor = RandomForestRegressor(n_estimators=100, max_depth=6, random_state=1)\n",
    "regressor.fit(X_train, y_train)\n",
    "\n",
    "print(regressor.score(X_train, y_train))\n",
    "print(regressor.score(X_test, y_test))\n"
   ]
  },
  {
   "cell_type": "code",
   "execution_count": 53,
   "metadata": {},
   "outputs": [
    {
     "name": "stdout",
     "output_type": "stream",
     "text": [
      "0.5916580680003702\n",
      "0.49757878849233045\n"
     ]
    }
   ],
   "source": [
    "# Adjust maxdepth hyperparameter \n",
    "regressor = RandomForestRegressor(n_estimators=100, max_depth=12, random_state=1)\n",
    "regressor.fit(X_train, y_train)\n",
    "\n",
    "print(regressor.score(X_train, y_train))\n",
    "print(regressor.score(X_test, y_test))\n"
   ]
  },
  {
   "cell_type": "code",
   "execution_count": null,
   "metadata": {},
   "outputs": [
    {
     "name": "stdout",
     "output_type": "stream",
     "text": [
      "0.8865353555100816\n",
      "0.4910426854318589\n"
     ]
    }
   ],
   "source": [
    "# Adjust maxdepth hyperparameter \n",
    "regressor = RandomForestRegressor(n_estimators=100, max_depth=24, random_state=1)\n",
    "regressor.fit(X_train, y_train)\n",
    "\n",
    "print(regressor.score(X_train, y_train))\n",
    "print(regressor.score(X_test, y_test))\n"
   ]
  },
  {
   "cell_type": "code",
   "execution_count": 54,
   "metadata": {},
   "outputs": [
    {
     "name": "stdout",
     "output_type": "stream",
     "text": [
      "0.77360914727663\n",
      "0.49488156269258476\n"
     ]
    }
   ],
   "source": [
    "# Adjust maxdepth hyperparameter \n",
    "regressor = RandomForestRegressor(n_estimators=100, max_depth=18, random_state=1)\n",
    "regressor.fit(X_train, y_train)\n",
    "\n",
    "print(regressor.score(X_train, y_train))\n",
    "print(regressor.score(X_test, y_test))\n"
   ]
  },
  {
   "cell_type": "code",
   "execution_count": 55,
   "metadata": {},
   "outputs": [
    {
     "name": "stdout",
     "output_type": "stream",
     "text": [
      "0.6824089618202811\n",
      "0.4968218651007954\n"
     ]
    }
   ],
   "source": [
    "# Adjust maxdepth hyperparameter \n",
    "regressor = RandomForestRegressor(n_estimators=100, max_depth=15, random_state=1)\n",
    "regressor.fit(X_train, y_train)\n",
    "\n",
    "print(regressor.score(X_train, y_train))\n",
    "print(regressor.score(X_test, y_test))\n"
   ]
  },
  {
   "cell_type": "code",
   "execution_count": 56,
   "metadata": {},
   "outputs": [
    {
     "name": "stdout",
     "output_type": "stream",
     "text": [
      "0.5275459363914689\n",
      "0.49478753712926177\n"
     ]
    }
   ],
   "source": [
    "# Adjust maxdepth hyperparameter \n",
    "regressor = RandomForestRegressor(n_estimators=100, max_depth=9, random_state=1)\n",
    "regressor.fit(X_train, y_train)\n",
    "\n",
    "print(regressor.score(X_train, y_train))\n",
    "print(regressor.score(X_test, y_test))\n"
   ]
  },
  {
   "cell_type": "code",
   "execution_count": 57,
   "metadata": {},
   "outputs": [
    {
     "name": "stdout",
     "output_type": "stream",
     "text": [
      "0.5665687680914301\n",
      "0.49751379830198234\n"
     ]
    }
   ],
   "source": [
    "# Adjust maxdepth hyperparameter \n",
    "regressor = RandomForestRegressor(n_estimators=100, max_depth=11, random_state=1)\n",
    "regressor.fit(X_train, y_train)\n",
    "\n",
    "print(regressor.score(X_train, y_train))\n",
    "print(regressor.score(X_test, y_test))\n"
   ]
  },
  {
   "cell_type": "code",
   "execution_count": 58,
   "metadata": {},
   "outputs": [
    {
     "name": "stdout",
     "output_type": "stream",
     "text": [
      "0.620285802616434\n",
      "0.49765475817884824\n"
     ]
    }
   ],
   "source": [
    "# Adjust maxdepth hyperparameter \n",
    "regressor = RandomForestRegressor(n_estimators=100, max_depth=13, random_state=1)\n",
    "regressor.fit(X_train, y_train)\n",
    "\n",
    "print(regressor.score(X_train, y_train))\n",
    "print(regressor.score(X_test, y_test))\n"
   ]
  },
  {
   "cell_type": "code",
   "execution_count": 59,
   "metadata": {},
   "outputs": [
    {
     "name": "stdout",
     "output_type": "stream",
     "text": [
      "0.6510269770332092\n",
      "0.49765596105828325\n"
     ]
    }
   ],
   "source": [
    "# Adjust maxdepth hyperparameter \n",
    "regressor = RandomForestRegressor(n_estimators=100, max_depth=14, random_state=1)\n",
    "regressor.fit(X_train, y_train)\n",
    "\n",
    "print(regressor.score(X_train, y_train))\n",
    "print(regressor.score(X_test, y_test))\n"
   ]
  },
  {
   "cell_type": "code",
   "execution_count": 60,
   "metadata": {},
   "outputs": [
    {
     "name": "stdout",
     "output_type": "stream",
     "text": [
      "0.6120794780648856\n",
      "0.4981907287531276\n"
     ]
    }
   ],
   "source": [
    "# Increase minsample hyperparameter \n",
    "regressor = RandomForestRegressor(min_samples_split=4, n_estimators=100, max_depth=14, random_state=1)\n",
    "regressor.fit(X_train, y_train)\n",
    "\n",
    "print(regressor.score(X_train, y_train))\n",
    "print(regressor.score(X_test, y_test))\n"
   ]
  },
  {
   "cell_type": "code",
   "execution_count": 61,
   "metadata": {},
   "outputs": [
    {
     "name": "stdout",
     "output_type": "stream",
     "text": [
      "0.5844140635195508\n",
      "0.498332679074216\n"
     ]
    }
   ],
   "source": [
    "# Increase minsample hyperparameter \n",
    "regressor = RandomForestRegressor(min_samples_split=8, n_estimators=100, max_depth=14, random_state=1)\n",
    "regressor.fit(X_train, y_train)\n",
    "\n",
    "print(regressor.score(X_train, y_train))\n",
    "print(regressor.score(X_test, y_test))\n"
   ]
  },
  {
   "cell_type": "code",
   "execution_count": 62,
   "metadata": {},
   "outputs": [
    {
     "name": "stdout",
     "output_type": "stream",
     "text": [
      "0.5635026875044423\n",
      "0.4985052341323545\n"
     ]
    }
   ],
   "source": [
    "# Increase minsample hyperparameter \n",
    "regressor = RandomForestRegressor(min_samples_split=16, n_estimators=100, max_depth=14, random_state=1)\n",
    "regressor.fit(X_train, y_train)\n",
    "\n",
    "print(regressor.score(X_train, y_train))\n",
    "print(regressor.score(X_test, y_test))\n"
   ]
  },
  {
   "cell_type": "code",
   "execution_count": 170,
   "metadata": {},
   "outputs": [
    {
     "name": "stdout",
     "output_type": "stream",
     "text": [
      "0.5434997293363846\n",
      "0.4942433576572282\n"
     ]
    }
   ],
   "source": [
    "regressor = RandomForestRegressor(min_samples_split=32, n_estimators=100, max_depth=14, random_state=1)\n",
    "regressor.fit(X_train, y_train)\n",
    "\n",
    "print(regressor.score(X_train, y_train))\n",
    "print(regressor.score(X_test, y_test))\n"
   ]
  },
  {
   "cell_type": "code",
   "execution_count": 64,
   "metadata": {},
   "outputs": [
    {
     "name": "stdout",
     "output_type": "stream",
     "text": [
      "0.5331422236336385\n",
      "0.49868539614909063\n"
     ]
    }
   ],
   "source": [
    "# Increase minsample hyperparameter \n",
    "regressor = RandomForestRegressor(min_samples_split=64, n_estimators=100, max_depth=14, random_state=1)\n",
    "regressor.fit(X_train, y_train)\n",
    "\n",
    "print(regressor.score(X_train, y_train))\n",
    "print(regressor.score(X_test, y_test))\n"
   ]
  },
  {
   "cell_type": "code",
   "execution_count": 65,
   "metadata": {},
   "outputs": [
    {
     "name": "stdout",
     "output_type": "stream",
     "text": [
      "0.5263367168348195\n",
      "0.47409286087531943\n"
     ]
    }
   ],
   "source": [
    "# Change hyperparameter bootstrap\n",
    "regressor = RandomForestRegressor(bootstrap=False, min_samples_split=64, n_estimators=100, max_depth=14, random_state=1)\n",
    "regressor.fit(X_train, y_train)\n",
    "\n",
    "print(regressor.score(X_train, y_train))\n",
    "print(regressor.score(X_test, y_test))\n"
   ]
  },
  {
   "cell_type": "code",
   "execution_count": 254,
   "metadata": {},
   "outputs": [
    {
     "name": "stdout",
     "output_type": "stream",
     "text": [
      "0.5291355432607758\n",
      "0.49195922629093736\n"
     ]
    }
   ],
   "source": [
    "# Adjust max_depth hyperparameter\n",
    "regressor = RandomForestRegressor(min_samples_split=64, n_estimators=100, max_depth=14, random_state=1)\n",
    "regressor.fit(X_train, y_train)\n",
    "\n",
    "print(regressor.score(X_train, y_train))\n",
    "print(regressor.score(X_test, y_test))\n"
   ]
  },
  {
   "cell_type": "code",
   "execution_count": 255,
   "metadata": {},
   "outputs": [
    {
     "name": "stdout",
     "output_type": "stream",
     "text": [
      "0.5254744507852166\n",
      "0.4917558053879798\n"
     ]
    }
   ],
   "source": [
    "# Adjust max_depth hyperparameter\n",
    "regressor = RandomForestRegressor(min_samples_split=64, n_estimators=100, max_depth=13, random_state=1)\n",
    "regressor.fit(X_train, y_train)\n",
    "\n",
    "print(regressor.score(X_train, y_train))\n",
    "print(regressor.score(X_test, y_test))\n"
   ]
  },
  {
   "cell_type": "code",
   "execution_count": 256,
   "metadata": {},
   "outputs": [
    {
     "name": "stdout",
     "output_type": "stream",
     "text": [
      "0.5354377693967467\n",
      "0.4920387270805088\n"
     ]
    }
   ],
   "source": [
    "# Adjust max_depth hyperparameter\n",
    "regressor = RandomForestRegressor(min_samples_split=64, n_estimators=100, max_depth=16, random_state=1)\n",
    "regressor.fit(X_train, y_train)\n",
    "\n",
    "print(regressor.score(X_train, y_train))\n",
    "print(regressor.score(X_test, y_test))\n"
   ]
  },
  {
   "cell_type": "code",
   "execution_count": 257,
   "metadata": {},
   "outputs": [
    {
     "name": "stdout",
     "output_type": "stream",
     "text": [
      "0.5324817682523383\n",
      "0.4919741718859939\n"
     ]
    }
   ],
   "source": [
    "# Adjust max_depth hyperparameter\n",
    "regressor = RandomForestRegressor(min_samples_split=64, n_estimators=100, max_depth=15, random_state=1)\n",
    "regressor.fit(X_train, y_train)\n",
    "\n",
    "print(regressor.score(X_train, y_train))\n",
    "print(regressor.score(X_test, y_test))\n"
   ]
  },
  {
   "cell_type": "code",
   "execution_count": 258,
   "metadata": {},
   "outputs": [
    {
     "name": "stdout",
     "output_type": "stream",
     "text": [
      "0.5379295732312334\n",
      "0.492148147514737\n"
     ]
    }
   ],
   "source": [
    "# Adjust max_depth hyperparameter\n",
    "regressor = RandomForestRegressor(min_samples_split=64, n_estimators=100, max_depth=17, random_state=1)\n",
    "regressor.fit(X_train, y_train)\n",
    "\n",
    "print(regressor.score(X_train, y_train))\n",
    "print(regressor.score(X_test, y_test))\n"
   ]
  },
  {
   "cell_type": "code",
   "execution_count": 259,
   "metadata": {},
   "outputs": [
    {
     "name": "stdout",
     "output_type": "stream",
     "text": [
      "0.5400556234809846\n",
      "0.49217173919158036\n"
     ]
    }
   ],
   "source": [
    "# Adjust max_depth hyperparameter\n",
    "regressor = RandomForestRegressor(min_samples_split=64, n_estimators=100, max_depth=18, random_state=1)\n",
    "regressor.fit(X_train, y_train)\n",
    "\n",
    "print(regressor.score(X_train, y_train))\n",
    "print(regressor.score(X_test, y_test))\n"
   ]
  },
  {
   "cell_type": "code",
   "execution_count": 23,
   "metadata": {},
   "outputs": [
    {
     "name": "stdout",
     "output_type": "stream",
     "text": [
      "0.5371925069680266\n",
      "0.4912235496495046\n"
     ]
    }
   ],
   "source": [
    "# Adjust max_depth hyperparameter\n",
    "regressor = RandomForestRegressor(min_samples_split=64, n_estimators=100, max_depth=19, random_state=1)\n",
    "regressor.fit(X_train, y_train)\n",
    "\n",
    "print(regressor.score(X_train, y_train))\n",
    "print(regressor.score(X_test, y_test))\n"
   ]
  },
  {
   "cell_type": "code",
   "execution_count": 28,
   "metadata": {},
   "outputs": [
    {
     "name": "stdout",
     "output_type": "stream",
     "text": [
      "0.36110947343681726\n",
      "0.3538854561924817\n"
     ]
    }
   ],
   "source": [
    "# Adjust max_depth hyperparameter\n",
    "regressor = RandomForestRegressor(min_samples_split=64, n_estimators=200, max_depth=3, random_state=1)\n",
    "regressor.fit(X_train, y_train)\n",
    "\n",
    "print(regressor.score(X_train, y_train))\n",
    "print(regressor.score(X_test, y_test))\n"
   ]
  },
  {
   "cell_type": "code",
   "execution_count": 24,
   "metadata": {},
   "outputs": [
    {
     "data": {
      "text/plain": [
       "['20220822_randomforest_model.joblib']"
      ]
     },
     "execution_count": 24,
     "metadata": {},
     "output_type": "execute_result"
    }
   ],
   "source": [
    "#pickle model to disk\n",
    "dump(regressor, '20220822_randomforest_model.joblib')"
   ]
  },
  {
   "cell_type": "code",
   "execution_count": 25,
   "metadata": {},
   "outputs": [
    {
     "data": {
      "text/plain": [
       "DecisionTreeRegressor(max_depth=19, max_features='auto', min_samples_split=64,\n",
       "                      random_state=1791095845)"
      ]
     },
     "execution_count": 25,
     "metadata": {},
     "output_type": "execute_result"
    }
   ],
   "source": [
    "regressor.estimators_[0]"
   ]
  },
  {
   "cell_type": "code",
   "execution_count": 29,
   "metadata": {},
   "outputs": [
    {
     "data": {
      "text/plain": [
       "[Text(0.5, 0.875, 'age <= 10.5\\nsquared_error = 804.917\\nsamples = 28575\\nvalue = [[3.059]\\n[1.929]\\n[21.984]\\n[0.137]\\n[0.076]\\n[0.006]\\n[2.379]\\n[10.162]\\n[0.074]\\n[0.002]\\n[1.969]\\n[22.306]\\n[0.138]\\n[0.006]\\n[0.048]\\n[0.215]\\n[0.206]\\n[0.175]\\n[0.146]\\n[0.018]\\n[0.209]\\n[0.078]\\n[0.003]\\n[0.051]\\n[0.008]\\n[0.016]\\n[2.075]\\n[21.059]\\n[10.189]\\n[31.247]]'),\n",
       " Text(0.25, 0.625, 'defYdsAgainst_prior2 <= 332.984\\nsquared_error = 554.286\\nsamples = 2538\\nvalue = [[0.0]\\n[0.0]\\n[0.0]\\n[0.0]\\n[0.0]\\n[0.0]\\n[0.0]\\n[0.0]\\n[0.0]\\n[0.0]\\n[0.0]\\n[0.0]\\n[0.0]\\n[0.0]\\n[0.0]\\n[0.0]\\n[0.0]\\n[0.0]\\n[0.0]\\n[0.0]\\n[2.344]\\n[0.868]\\n[0.035]\\n[0.569]\\n[0.085]\\n[0.184]\\n[23.215]\\n[235.614]\\n[113.996]\\n[349.61]]'),\n",
       " Text(0.125, 0.375, 'defYdsAgainst_prior2 <= 295.797\\nsquared_error = 499.441\\nsamples = 732\\nvalue = [[0.0]\\n[0.0]\\n[0.0]\\n[0.0]\\n[0.0]\\n[0.0]\\n[0.0]\\n[0.0]\\n[0.0]\\n[0.0]\\n[0.0]\\n[0.0]\\n[0.0]\\n[0.0]\\n[0.0]\\n[0.0]\\n[0.0]\\n[0.0]\\n[0.0]\\n[0.0]\\n[2.508]\\n[0.86]\\n[0.043]\\n[0.575]\\n[0.081]\\n[0.189]\\n[21.363]\\n[222.829]\\n[105.985]\\n[328.814]]'),\n",
       " Text(0.0625, 0.125, 'squared_error = 441.389\\nsamples = 73\\nvalue = [[0.0]\\n[0.0]\\n[0.0]\\n[0.0]\\n[0.0]\\n[0.0]\\n[0.0]\\n[0.0]\\n[0.0]\\n[0.0]\\n[0.0]\\n[0.0]\\n[0.0]\\n[0.0]\\n[0.0]\\n[0.0]\\n[0.0]\\n[0.0]\\n[0.0]\\n[0.0]\\n[2.821]\\n[0.786]\\n[0.068]\\n[0.547]\\n[0.077]\\n[0.171]\\n[18.282]\\n[190.581]\\n[105.154]\\n[295.735]]'),\n",
       " Text(0.1875, 0.125, 'squared_error = 497.097\\nsamples = 659\\nvalue = [[0.0]\\n[0.0]\\n[0.0]\\n[0.0]\\n[0.0]\\n[0.0]\\n[0.0]\\n[0.0]\\n[0.0]\\n[0.0]\\n[0.0]\\n[0.0]\\n[0.0]\\n[0.0]\\n[0.0]\\n[0.0]\\n[0.0]\\n[0.0]\\n[0.0]\\n[0.0]\\n[2.473]\\n[0.868]\\n[0.04]\\n[0.578]\\n[0.081]\\n[0.191]\\n[21.702]\\n[226.378]\\n[106.076]\\n[332.454]]'),\n",
       " Text(0.375, 0.375, 'defPassYAgainst_curr_opp <= 268.5\\nsquared_error = 563.983\\nsamples = 1806\\nvalue = [[0.0]\\n[0.0]\\n[0.0]\\n[0.0]\\n[0.0]\\n[0.0]\\n[0.0]\\n[0.0]\\n[0.0]\\n[0.0]\\n[0.0]\\n[0.0]\\n[0.0]\\n[0.0]\\n[0.0]\\n[0.0]\\n[0.0]\\n[0.0]\\n[0.0]\\n[0.0]\\n[2.276]\\n[0.871]\\n[0.031]\\n[0.567]\\n[0.087]\\n[0.182]\\n[23.974]\\n[240.854]\\n[117.279]\\n[358.134]]'),\n",
       " Text(0.3125, 0.125, 'squared_error = 541.397\\nsamples = 1443\\nvalue = [[0.0]\\n[0.0]\\n[0.0]\\n[0.0]\\n[0.0]\\n[0.0]\\n[0.0]\\n[0.0]\\n[0.0]\\n[0.0]\\n[0.0]\\n[0.0]\\n[0.0]\\n[0.0]\\n[0.0]\\n[0.0]\\n[0.0]\\n[0.0]\\n[0.0]\\n[0.0]\\n[2.275]\\n[0.858]\\n[0.033]\\n[0.559]\\n[0.084]\\n[0.178]\\n[23.54]\\n[235.664]\\n[116.516]\\n[352.18]]'),\n",
       " Text(0.4375, 0.125, 'squared_error = 611.471\\nsamples = 363\\nvalue = [[0.0]\\n[0.0]\\n[0.0]\\n[0.0]\\n[0.0]\\n[0.0]\\n[0.0]\\n[0.0]\\n[0.0]\\n[0.0]\\n[0.0]\\n[0.0]\\n[0.0]\\n[0.0]\\n[0.0]\\n[0.0]\\n[0.0]\\n[0.0]\\n[0.0]\\n[0.0]\\n[2.281]\\n[0.923]\\n[0.023]\\n[0.597]\\n[0.099]\\n[0.197]\\n[25.632]\\n[260.652]\\n[120.192]\\n[380.844]]'),\n",
       " Text(0.75, 0.625, 'posRank_QB1 <= 0.5\\nsquared_error = 255.661\\nsamples = 26037\\nvalue = [[3.359]\\n[2.119]\\n[24.141]\\n[0.15]\\n[0.083]\\n[0.006]\\n[2.613]\\n[11.159]\\n[0.081]\\n[0.002]\\n[2.163]\\n[24.495]\\n[0.152]\\n[0.007]\\n[0.053]\\n[0.237]\\n[0.226]\\n[0.192]\\n[0.16]\\n[0.019]\\n[0.0]\\n[0.0]\\n[0.0]\\n[0.0]\\n[0.0]\\n[0.0]\\n[0.0]\\n[0.0]\\n[0.0]\\n[0.0]]'),\n",
       " Text(0.625, 0.375, 'posRank_RB1 <= 0.5\\nsquared_error = 61.534\\nsamples = 23557\\nvalue = [[0.123]\\n[0.073]\\n[0.838]\\n[0.005]\\n[0.004]\\n[0.0]\\n[2.558]\\n[10.878]\\n[0.075]\\n[0.002]\\n[2.388]\\n[27.056]\\n[0.168]\\n[0.007]\\n[0.036]\\n[0.261]\\n[0.249]\\n[0.212]\\n[0.177]\\n[0.021]\\n[0.0]\\n[0.0]\\n[0.0]\\n[0.0]\\n[0.0]\\n[0.0]\\n[0.0]\\n[0.0]\\n[0.0]\\n[0.0]]'),\n",
       " Text(0.5625, 0.125, 'squared_error = 45.886\\nsamples = 21009\\nvalue = [[0.138]\\n[0.082]\\n[0.936]\\n[0.006]\\n[0.005]\\n[0.0]\\n[0.942]\\n[4.067]\\n[0.026]\\n[0.001]\\n[2.383]\\n[28.071]\\n[0.176]\\n[0.007]\\n[0.029]\\n[0.293]\\n[0.28]\\n[0.238]\\n[0.199]\\n[0.024]\\n[0.0]\\n[0.0]\\n[0.0]\\n[0.0]\\n[0.0]\\n[0.0]\\n[0.0]\\n[0.0]\\n[0.0]\\n[0.0]]'),\n",
       " Text(0.6875, 0.125, 'squared_error = 64.814\\nsamples = 2548\\nvalue = [[0.004]\\n[0.002]\\n[0.048]\\n[0.002]\\n[0.0]\\n[0.0]\\n[15.707]\\n[66.303]\\n[0.471]\\n[0.014]\\n[2.428]\\n[18.791]\\n[0.096]\\n[0.006]\\n[0.095]\\n[0.0]\\n[0.0]\\n[0.0]\\n[0.0]\\n[0.0]\\n[0.0]\\n[0.0]\\n[0.0]\\n[0.0]\\n[0.0]\\n[0.0]\\n[0.0]\\n[0.0]\\n[0.0]\\n[0.0]]'),\n",
       " Text(0.875, 0.375, 'passY_prior2 <= 252.562\\nsquared_error = 214.635\\nsamples = 2480\\nvalue = [[34.254]\\n[21.647]\\n[246.615]\\n[1.53]\\n[0.834]\\n[0.063]\\n[3.136]\\n[13.84]\\n[0.145]\\n[0.006]\\n[0.012]\\n[0.052]\\n[0.001]\\n[0.001]\\n[0.214]\\n[0.0]\\n[0.0]\\n[0.0]\\n[0.0]\\n[0.0]\\n[0.0]\\n[0.0]\\n[0.0]\\n[0.0]\\n[0.0]\\n[0.0]\\n[0.0]\\n[0.0]\\n[0.0]\\n[0.0]]'),\n",
       " Text(0.8125, 0.125, 'squared_error = 195.53\\nsamples = 1522\\nvalue = [[32.748]\\n[20.254]\\n[228.324]\\n[1.299]\\n[0.852]\\n[0.05]\\n[3.568]\\n[16.927]\\n[0.171]\\n[0.007]\\n[0.014]\\n[0.071]\\n[0.002]\\n[0.001]\\n[0.223]\\n[0.0]\\n[0.0]\\n[0.0]\\n[0.0]\\n[0.0]\\n[0.0]\\n[0.0]\\n[0.0]\\n[0.0]\\n[0.0]\\n[0.0]\\n[0.0]\\n[0.0]\\n[0.0]\\n[0.0]]'),\n",
       " Text(0.9375, 0.125, 'squared_error = 196.085\\nsamples = 958\\nvalue = [[36.701]\\n[23.912]\\n[276.361]\\n[1.906]\\n[0.804]\\n[0.084]\\n[2.435]\\n[8.819]\\n[0.104]\\n[0.003]\\n[0.009]\\n[0.021]\\n[0.0]\\n[0.001]\\n[0.201]\\n[0.0]\\n[0.0]\\n[0.0]\\n[0.0]\\n[0.0]\\n[0.0]\\n[0.0]\\n[0.0]\\n[0.0]\\n[0.0]\\n[0.0]\\n[0.0]\\n[0.0]\\n[0.0]\\n[0.0]]')]"
      ]
     },
     "execution_count": 29,
     "metadata": {},
     "output_type": "execute_result"
    },
    {
     "data": {
      "image/png": "[encoded data removed]",
      "text/plain": [
       "<Figure size 1080x720 with 1 Axes>"
      ]
     },
     "metadata": {
      "needs_background": "light"
     },
     "output_type": "display_data"
    }
   ],
   "source": [
    "import matplotlib.pyplot as plt\n",
    "from sklearn.tree import plot_tree\n",
    "\n",
    "fig = plt.figure(figsize=(15, 10))\n",
    "plot_tree(regressor.estimators_[0], \n",
    "          feature_names=X.columns,\n",
    "          class_names=y.columns, \n",
    "          filled=True, impurity=True, \n",
    "          rounded=True)"
   ]
  },
  {
   "cell_type": "code",
   "execution_count": null,
   "metadata": {},
   "outputs": [],
   "source": []
  }
 ],
 "metadata": {
  "kernelspec": {
   "display_name": "Python 3.7.13 ('ffpred')",
   "language": "python",
   "name": "python3"
  },
  "language_info": {
   "codemirror_mode": {
    "name": "ipython",
    "version": 3
   },
   "file_extension": ".py",
   "mimetype": "text/x-python",
   "name": "python",
   "nbconvert_exporter": "python",
   "pygments_lexer": "ipython3",
   "version": "3.7.13"
  },
  "orig_nbformat": 4,
  "vscode": {
   "interpreter": {
    "hash": "fb5b2e16482bcd50eb78b01591c3b490f3ef6ecca47db368718710c0c1505289"
   }
  }
 },
 "nbformat": 4,
 "nbformat_minor": 2
}
