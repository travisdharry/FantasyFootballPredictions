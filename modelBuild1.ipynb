{
 "cells": [
  {
   "cell_type": "code",
   "execution_count": 222,
   "metadata": {},
   "outputs": [],
   "source": [
    "import pandas as pd\n",
    "\n",
    "from sklearn.ensemble import RandomForestRegressor\n",
    "from sklearn.model_selection import train_test_split\n",
    "from sklearn.metrics import r2_score\n",
    "from sklearn import metrics\n",
    "from sklearn.linear_model import LinearRegression\n",
    "from sklearn.preprocessing import OneHotEncoder\n",
    "\n",
    "from joblib import dump, load\n",
    "\n",
    "import numpy as np"
   ]
  },
  {
   "cell_type": "code",
   "execution_count": 263,
   "metadata": {},
   "outputs": [],
   "source": [
    "# Read player model\n",
    "xl1 = pd.read_csv('data_cleaned/modelSource.csv', index_col=0)"
   ]
  },
  {
   "cell_type": "code",
   "execution_count": 264,
   "metadata": {},
   "outputs": [],
   "source": [
    "# merge in ages\n",
    "#xl1 = xl1.merge(xl2, how='left', on=['player', 'season', 'team', 'pos'])\n",
    "#xl1 = xl1.dropna()\n",
    "#xl1 = xl1.drop(columns=['week_y'])\n",
    "#xl1 = xl1.rename(columns={'week_x':'week'})"
   ]
  },
  {
   "cell_type": "code",
   "execution_count": 265,
   "metadata": {},
   "outputs": [],
   "source": [
    "# Define features and labels\n",
    "y = xl1[[\n",
    "'passA',\n",
    "'passC',\n",
    "'passY',\n",
    "'passT',\n",
    "'passI',\n",
    "'pass2',\n",
    "'rushA',\n",
    "'rushY',\n",
    "'rushT',\n",
    "'rush2',\n",
    "'recC',\n",
    "'recY',\n",
    "'recT',\n",
    "'rec2',\n",
    "'fum',\n",
    "'XPA',\n",
    "'XPM',\n",
    "'FGA',\n",
    "'FGM',\n",
    "'FG50',\n",
    "'defSack',\n",
    "'defI',\n",
    "'defSaf',\n",
    "'defFum',\n",
    "'defBlk',\n",
    "'defT',\n",
    "'defPtsAgainst',\n",
    "'defPassYAgainst',\n",
    "'defRushYAgainst',\n",
    "'defYdsAgainst'                                 \n",
    "]]\n",
    "\n",
    "X = xl1.drop(columns=[\n",
    "    'season',\n",
    "    'team',\n",
    "    'player',\n",
    "    'opponent',\n",
    "    'passA',\n",
    "    'passC',\n",
    "    'passY',\n",
    "    'passT',\n",
    "    'passI',\n",
    "    'pass2',\n",
    "    'rushA',\n",
    "    'rushY',\n",
    "    'rushT',\n",
    "    'rush2',\n",
    "    'recC',\n",
    "    'recY',\n",
    "    'recT',\n",
    "    'rec2',\n",
    "    'fum',\n",
    "    'XPA',\n",
    "    'XPM',\n",
    "    'FGA',\n",
    "    'FGM',\n",
    "    'FG50',\n",
    "    'defSack',\n",
    "    'defI',\n",
    "    'defSaf',\n",
    "    'defFum',\n",
    "    'defBlk',\n",
    "    'defT',\n",
    "    'defPtsAgainst',\n",
    "    'defPassYAgainst',\n",
    "    'defRushYAgainst',\n",
    "    'defYdsAgainst'\n",
    "])\n",
    "\n",
    "droppedCols = xl1[['season',\n",
    "'team',\n",
    "'player',\n",
    "'opponent'\n",
    "]]"
   ]
  },
  {
   "cell_type": "code",
   "execution_count": 266,
   "metadata": {},
   "outputs": [
    {
     "data": {
      "text/html": [
       "<div>\n",
       "<style scoped>\n",
       "    .dataframe tbody tr th:only-of-type {\n",
       "        vertical-align: middle;\n",
       "    }\n",
       "\n",
       "    .dataframe tbody tr th {\n",
       "        vertical-align: top;\n",
       "    }\n",
       "\n",
       "    .dataframe thead th {\n",
       "        text-align: right;\n",
       "    }\n",
       "</style>\n",
       "<table border=\"1\" class=\"dataframe\">\n",
       "  <thead>\n",
       "    <tr style=\"text-align: right;\">\n",
       "      <th></th>\n",
       "      <th>week</th>\n",
       "      <th>age</th>\n",
       "      <th>passA_curr</th>\n",
       "      <th>passC_curr</th>\n",
       "      <th>passY_curr</th>\n",
       "      <th>passT_curr</th>\n",
       "      <th>passI_curr</th>\n",
       "      <th>pass2_curr</th>\n",
       "      <th>rushA_curr</th>\n",
       "      <th>rushY_curr</th>\n",
       "      <th>...</th>\n",
       "      <th>posRank_QB3</th>\n",
       "      <th>posRank_RB1</th>\n",
       "      <th>posRank_RB2</th>\n",
       "      <th>posRank_RB3</th>\n",
       "      <th>posRank_TE1</th>\n",
       "      <th>posRank_TE2</th>\n",
       "      <th>posRank_TE3</th>\n",
       "      <th>posRank_WR1</th>\n",
       "      <th>posRank_WR2</th>\n",
       "      <th>posRank_WR3</th>\n",
       "    </tr>\n",
       "  </thead>\n",
       "  <tbody>\n",
       "    <tr>\n",
       "      <th>0</th>\n",
       "      <td>1.0</td>\n",
       "      <td>27.0</td>\n",
       "      <td>0.0</td>\n",
       "      <td>0.0</td>\n",
       "      <td>0.0</td>\n",
       "      <td>0.0</td>\n",
       "      <td>0.0</td>\n",
       "      <td>0.0</td>\n",
       "      <td>0.0</td>\n",
       "      <td>0.0</td>\n",
       "      <td>...</td>\n",
       "      <td>0</td>\n",
       "      <td>0</td>\n",
       "      <td>0</td>\n",
       "      <td>0</td>\n",
       "      <td>0</td>\n",
       "      <td>0</td>\n",
       "      <td>0</td>\n",
       "      <td>0</td>\n",
       "      <td>0</td>\n",
       "      <td>0</td>\n",
       "    </tr>\n",
       "    <tr>\n",
       "      <th>1</th>\n",
       "      <td>1.0</td>\n",
       "      <td>32.0</td>\n",
       "      <td>0.0</td>\n",
       "      <td>0.0</td>\n",
       "      <td>0.0</td>\n",
       "      <td>0.0</td>\n",
       "      <td>0.0</td>\n",
       "      <td>0.0</td>\n",
       "      <td>0.0</td>\n",
       "      <td>0.0</td>\n",
       "      <td>...</td>\n",
       "      <td>0</td>\n",
       "      <td>0</td>\n",
       "      <td>0</td>\n",
       "      <td>0</td>\n",
       "      <td>0</td>\n",
       "      <td>0</td>\n",
       "      <td>0</td>\n",
       "      <td>0</td>\n",
       "      <td>0</td>\n",
       "      <td>0</td>\n",
       "    </tr>\n",
       "    <tr>\n",
       "      <th>2</th>\n",
       "      <td>1.0</td>\n",
       "      <td>22.0</td>\n",
       "      <td>0.0</td>\n",
       "      <td>0.0</td>\n",
       "      <td>0.0</td>\n",
       "      <td>0.0</td>\n",
       "      <td>0.0</td>\n",
       "      <td>0.0</td>\n",
       "      <td>0.0</td>\n",
       "      <td>0.0</td>\n",
       "      <td>...</td>\n",
       "      <td>0</td>\n",
       "      <td>0</td>\n",
       "      <td>0</td>\n",
       "      <td>0</td>\n",
       "      <td>0</td>\n",
       "      <td>0</td>\n",
       "      <td>0</td>\n",
       "      <td>0</td>\n",
       "      <td>0</td>\n",
       "      <td>0</td>\n",
       "    </tr>\n",
       "    <tr>\n",
       "      <th>3</th>\n",
       "      <td>1.0</td>\n",
       "      <td>33.0</td>\n",
       "      <td>0.0</td>\n",
       "      <td>0.0</td>\n",
       "      <td>0.0</td>\n",
       "      <td>0.0</td>\n",
       "      <td>0.0</td>\n",
       "      <td>0.0</td>\n",
       "      <td>0.0</td>\n",
       "      <td>0.0</td>\n",
       "      <td>...</td>\n",
       "      <td>0</td>\n",
       "      <td>0</td>\n",
       "      <td>0</td>\n",
       "      <td>0</td>\n",
       "      <td>0</td>\n",
       "      <td>0</td>\n",
       "      <td>0</td>\n",
       "      <td>0</td>\n",
       "      <td>0</td>\n",
       "      <td>0</td>\n",
       "    </tr>\n",
       "    <tr>\n",
       "      <th>4</th>\n",
       "      <td>1.0</td>\n",
       "      <td>29.0</td>\n",
       "      <td>0.0</td>\n",
       "      <td>0.0</td>\n",
       "      <td>0.0</td>\n",
       "      <td>0.0</td>\n",
       "      <td>0.0</td>\n",
       "      <td>0.0</td>\n",
       "      <td>0.0</td>\n",
       "      <td>0.0</td>\n",
       "      <td>...</td>\n",
       "      <td>0</td>\n",
       "      <td>0</td>\n",
       "      <td>0</td>\n",
       "      <td>0</td>\n",
       "      <td>0</td>\n",
       "      <td>0</td>\n",
       "      <td>0</td>\n",
       "      <td>0</td>\n",
       "      <td>0</td>\n",
       "      <td>0</td>\n",
       "    </tr>\n",
       "    <tr>\n",
       "      <th>...</th>\n",
       "      <td>...</td>\n",
       "      <td>...</td>\n",
       "      <td>...</td>\n",
       "      <td>...</td>\n",
       "      <td>...</td>\n",
       "      <td>...</td>\n",
       "      <td>...</td>\n",
       "      <td>...</td>\n",
       "      <td>...</td>\n",
       "      <td>...</td>\n",
       "      <td>...</td>\n",
       "      <td>...</td>\n",
       "      <td>...</td>\n",
       "      <td>...</td>\n",
       "      <td>...</td>\n",
       "      <td>...</td>\n",
       "      <td>...</td>\n",
       "      <td>...</td>\n",
       "      <td>...</td>\n",
       "      <td>...</td>\n",
       "      <td>...</td>\n",
       "    </tr>\n",
       "    <tr>\n",
       "      <th>57478</th>\n",
       "      <td>17.0</td>\n",
       "      <td>0.0</td>\n",
       "      <td>0.0</td>\n",
       "      <td>0.0</td>\n",
       "      <td>0.0</td>\n",
       "      <td>0.0</td>\n",
       "      <td>0.0</td>\n",
       "      <td>0.0</td>\n",
       "      <td>0.0</td>\n",
       "      <td>0.0</td>\n",
       "      <td>...</td>\n",
       "      <td>0</td>\n",
       "      <td>0</td>\n",
       "      <td>0</td>\n",
       "      <td>0</td>\n",
       "      <td>0</td>\n",
       "      <td>0</td>\n",
       "      <td>0</td>\n",
       "      <td>0</td>\n",
       "      <td>0</td>\n",
       "      <td>0</td>\n",
       "    </tr>\n",
       "    <tr>\n",
       "      <th>57479</th>\n",
       "      <td>17.0</td>\n",
       "      <td>0.0</td>\n",
       "      <td>0.0</td>\n",
       "      <td>0.0</td>\n",
       "      <td>0.0</td>\n",
       "      <td>0.0</td>\n",
       "      <td>0.0</td>\n",
       "      <td>0.0</td>\n",
       "      <td>0.0</td>\n",
       "      <td>0.0</td>\n",
       "      <td>...</td>\n",
       "      <td>0</td>\n",
       "      <td>0</td>\n",
       "      <td>0</td>\n",
       "      <td>0</td>\n",
       "      <td>0</td>\n",
       "      <td>0</td>\n",
       "      <td>0</td>\n",
       "      <td>0</td>\n",
       "      <td>0</td>\n",
       "      <td>0</td>\n",
       "    </tr>\n",
       "    <tr>\n",
       "      <th>57480</th>\n",
       "      <td>17.0</td>\n",
       "      <td>0.0</td>\n",
       "      <td>0.0</td>\n",
       "      <td>0.0</td>\n",
       "      <td>0.0</td>\n",
       "      <td>0.0</td>\n",
       "      <td>0.0</td>\n",
       "      <td>0.0</td>\n",
       "      <td>0.0</td>\n",
       "      <td>0.0</td>\n",
       "      <td>...</td>\n",
       "      <td>0</td>\n",
       "      <td>0</td>\n",
       "      <td>0</td>\n",
       "      <td>0</td>\n",
       "      <td>0</td>\n",
       "      <td>0</td>\n",
       "      <td>0</td>\n",
       "      <td>0</td>\n",
       "      <td>0</td>\n",
       "      <td>0</td>\n",
       "    </tr>\n",
       "    <tr>\n",
       "      <th>57481</th>\n",
       "      <td>17.0</td>\n",
       "      <td>0.0</td>\n",
       "      <td>0.0</td>\n",
       "      <td>0.0</td>\n",
       "      <td>0.0</td>\n",
       "      <td>0.0</td>\n",
       "      <td>0.0</td>\n",
       "      <td>0.0</td>\n",
       "      <td>0.0</td>\n",
       "      <td>0.0</td>\n",
       "      <td>...</td>\n",
       "      <td>0</td>\n",
       "      <td>0</td>\n",
       "      <td>0</td>\n",
       "      <td>0</td>\n",
       "      <td>0</td>\n",
       "      <td>0</td>\n",
       "      <td>0</td>\n",
       "      <td>0</td>\n",
       "      <td>0</td>\n",
       "      <td>0</td>\n",
       "    </tr>\n",
       "    <tr>\n",
       "      <th>57482</th>\n",
       "      <td>17.0</td>\n",
       "      <td>0.0</td>\n",
       "      <td>0.0</td>\n",
       "      <td>0.0</td>\n",
       "      <td>0.0</td>\n",
       "      <td>0.0</td>\n",
       "      <td>0.0</td>\n",
       "      <td>0.0</td>\n",
       "      <td>0.0</td>\n",
       "      <td>0.0</td>\n",
       "      <td>...</td>\n",
       "      <td>0</td>\n",
       "      <td>0</td>\n",
       "      <td>0</td>\n",
       "      <td>0</td>\n",
       "      <td>0</td>\n",
       "      <td>0</td>\n",
       "      <td>0</td>\n",
       "      <td>0</td>\n",
       "      <td>0</td>\n",
       "      <td>0</td>\n",
       "    </tr>\n",
       "  </tbody>\n",
       "</table>\n",
       "<p>56768 rows × 137 columns</p>\n",
       "</div>"
      ],
      "text/plain": [
       "       week   age  passA_curr  passC_curr  passY_curr  passT_curr  passI_curr  \\\n",
       "0       1.0  27.0         0.0         0.0         0.0         0.0         0.0   \n",
       "1       1.0  32.0         0.0         0.0         0.0         0.0         0.0   \n",
       "2       1.0  22.0         0.0         0.0         0.0         0.0         0.0   \n",
       "3       1.0  33.0         0.0         0.0         0.0         0.0         0.0   \n",
       "4       1.0  29.0         0.0         0.0         0.0         0.0         0.0   \n",
       "...     ...   ...         ...         ...         ...         ...         ...   \n",
       "57478  17.0   0.0         0.0         0.0         0.0         0.0         0.0   \n",
       "57479  17.0   0.0         0.0         0.0         0.0         0.0         0.0   \n",
       "57480  17.0   0.0         0.0         0.0         0.0         0.0         0.0   \n",
       "57481  17.0   0.0         0.0         0.0         0.0         0.0         0.0   \n",
       "57482  17.0   0.0         0.0         0.0         0.0         0.0         0.0   \n",
       "\n",
       "       pass2_curr  rushA_curr  rushY_curr  ...  posRank_QB3  posRank_RB1  \\\n",
       "0             0.0         0.0         0.0  ...            0            0   \n",
       "1             0.0         0.0         0.0  ...            0            0   \n",
       "2             0.0         0.0         0.0  ...            0            0   \n",
       "3             0.0         0.0         0.0  ...            0            0   \n",
       "4             0.0         0.0         0.0  ...            0            0   \n",
       "...           ...         ...         ...  ...          ...          ...   \n",
       "57478         0.0         0.0         0.0  ...            0            0   \n",
       "57479         0.0         0.0         0.0  ...            0            0   \n",
       "57480         0.0         0.0         0.0  ...            0            0   \n",
       "57481         0.0         0.0         0.0  ...            0            0   \n",
       "57482         0.0         0.0         0.0  ...            0            0   \n",
       "\n",
       "       posRank_RB2  posRank_RB3  posRank_TE1  posRank_TE2  posRank_TE3  \\\n",
       "0                0            0            0            0            0   \n",
       "1                0            0            0            0            0   \n",
       "2                0            0            0            0            0   \n",
       "3                0            0            0            0            0   \n",
       "4                0            0            0            0            0   \n",
       "...            ...          ...          ...          ...          ...   \n",
       "57478            0            0            0            0            0   \n",
       "57479            0            0            0            0            0   \n",
       "57480            0            0            0            0            0   \n",
       "57481            0            0            0            0            0   \n",
       "57482            0            0            0            0            0   \n",
       "\n",
       "       posRank_WR1  posRank_WR2  posRank_WR3  \n",
       "0                0            0            0  \n",
       "1                0            0            0  \n",
       "2                0            0            0  \n",
       "3                0            0            0  \n",
       "4                0            0            0  \n",
       "...            ...          ...          ...  \n",
       "57478            0            0            0  \n",
       "57479            0            0            0  \n",
       "57480            0            0            0  \n",
       "57481            0            0            0  \n",
       "57482            0            0            0  \n",
       "\n",
       "[56768 rows x 137 columns]"
      ]
     },
     "execution_count": 266,
     "metadata": {},
     "output_type": "execute_result"
    }
   ],
   "source": [
    "# Encode categorical features\n",
    "X = pd.get_dummies(X, columns = ['pos', 'posRank'])\n",
    "X"
   ]
  },
  {
   "cell_type": "code",
   "execution_count": 267,
   "metadata": {},
   "outputs": [
    {
     "data": {
      "text/plain": [
       "Index(['week', 'age', 'passA_curr', 'passC_curr', 'passY_curr', 'passT_curr',\n",
       "       'passI_curr', 'pass2_curr', 'rushA_curr', 'rushY_curr', 'rushT_curr',\n",
       "       'rush2_curr', 'recC_curr', 'recY_curr', 'recT_curr', 'rec2_curr',\n",
       "       'fum_curr', 'XPA_curr', 'XPM_curr', 'FGA_curr', 'FGM_curr', 'FG50_curr',\n",
       "       'defSack_curr', 'defI_curr', 'defSaf_curr', 'defFum_curr',\n",
       "       'defBlk_curr', 'defT_curr', 'defPtsAgainst_curr',\n",
       "       'defPassYAgainst_curr'],\n",
       "      dtype='object')"
      ]
     },
     "execution_count": 267,
     "metadata": {},
     "output_type": "execute_result"
    }
   ],
   "source": [
    "X.columns[:30]"
   ]
  },
  {
   "cell_type": "code",
   "execution_count": 268,
   "metadata": {},
   "outputs": [],
   "source": [
    "X_train, X_test, y_train, y_test = train_test_split(X, y, test_size=0.2, random_state=1)\n"
   ]
  },
  {
   "cell_type": "code",
   "execution_count": 269,
   "metadata": {},
   "outputs": [
    {
     "name": "stdout",
     "output_type": "stream",
     "text": [
      "R2:  0.3727314900218764\n",
      "R2 Adjusted:  0.3650695975586985\n",
      "Mean Absolute Error (MAE): 1.8933770675645885\n",
      "Mean Squared Error (MSE): 141.80262565263246\n"
     ]
    }
   ],
   "source": [
    "# Create a baseline prediction using the player's previous year statistics\n",
    "colList = [(x + \"_prior1\") for x in list(y.columns)]\n",
    "base_pred = X_test[colList]\n",
    "\n",
    "r2 = r2_score(y_test, base_pred)\n",
    "\n",
    "print(\"R2: \", r2)\n",
    "print(\"R2 Adjusted: \", (1 - (1-r2)*(len(y_test)-1)/(len(y_test)-len(X.columns)-1)))\n",
    "print('Mean Absolute Error (MAE):', metrics.mean_absolute_error(y_test, base_pred))\n",
    "print('Mean Squared Error (MSE):', metrics.mean_squared_error(y_test, base_pred))"
   ]
  },
  {
   "cell_type": "code",
   "execution_count": 22,
   "metadata": {},
   "outputs": [
    {
     "name": "stdout",
     "output_type": "stream",
     "text": [
      "R2:  0.40067978787163055\n",
      "R2 Adjusted:  0.3927989001421771\n",
      "Mean Absolute Error (MAE): 1.7013323837354124\n",
      "Mean Squared Error (MSE): 91.76656762983988\n"
     ]
    }
   ],
   "source": [
    "regressor = RandomForestRegressor(n_estimators=70, max_depth=6, random_state=1)\n",
    "regressor.fit(X_train, y_train)\n",
    "y_pred = regressor.predict(X_test)\n",
    "\n",
    "r2 = r2_score(y_test, y_pred)\n",
    "\n",
    "print(\"R2: \", r2)\n",
    "print(\"R2 Adjusted: \", (1 - (1-r2)*(len(y_test)-1)/(len(y_test)-len(X.columns)-1)))\n",
    "print('Mean Absolute Error (MAE):', metrics.mean_absolute_error(y_test, y_pred))\n",
    "print('Mean Squared Error (MSE):', metrics.mean_squared_error(y_test, y_pred))"
   ]
  },
  {
   "cell_type": "code",
   "execution_count": 37,
   "metadata": {},
   "outputs": [
    {
     "name": "stdout",
     "output_type": "stream",
     "text": [
      "R2:  0.49592972158374954\n",
      "R2 Adjusted:  0.48930134297818706\n",
      "Mean Absolute Error (MAE): 1.499207436581209\n",
      "Mean Squared Error (MSE): 86.51795773782285\n"
     ]
    }
   ],
   "source": [
    "regressor = RandomForestRegressor(n_estimators=35, max_depth=12, random_state=1)\n",
    "regressor.fit(X_train, y_train)\n",
    "y_pred = regressor.predict(X_test)\n",
    "\n",
    "r2 = r2_score(y_test, y_pred)\n",
    "\n",
    "print(\"R2: \", r2)\n",
    "print(\"R2 Adjusted: \", (1 - (1-r2)*(len(y_test)-1)/(len(y_test)-len(X.columns)-1)))\n",
    "print('Mean Absolute Error (MAE):', metrics.mean_absolute_error(y_test, y_pred))\n",
    "print('Mean Squared Error (MSE):', metrics.mean_squared_error(y_test, y_pred))"
   ]
  },
  {
   "cell_type": "code",
   "execution_count": 38,
   "metadata": {},
   "outputs": [
    {
     "name": "stdout",
     "output_type": "stream",
     "text": [
      "R2:  0.49774126596261586\n",
      "R2 Adjusted:  0.491136708642533\n",
      "Mean Absolute Error (MAE): 1.4937951194156518\n",
      "Mean Squared Error (MSE): 85.76441487675659\n"
     ]
    }
   ],
   "source": [
    "regressor = RandomForestRegressor(n_estimators=150, max_depth=12, random_state=1)\n",
    "regressor.fit(X_train, y_train)\n",
    "y_pred = regressor.predict(X_test)\n",
    "\n",
    "r2 = r2_score(y_test, y_pred)\n",
    "\n",
    "print(\"R2: \", r2)\n",
    "print(\"R2 Adjusted: \", (1 - (1-r2)*(len(y_test)-1)/(len(y_test)-len(X.columns)-1)))\n",
    "print('Mean Absolute Error (MAE):', metrics.mean_absolute_error(y_test, y_pred))\n",
    "print('Mean Squared Error (MSE):', metrics.mean_squared_error(y_test, y_pred))"
   ]
  },
  {
   "cell_type": "code",
   "execution_count": 52,
   "metadata": {},
   "outputs": [
    {
     "name": "stdout",
     "output_type": "stream",
     "text": [
      "0.4088380661692439\n",
      "0.40051586384672755\n"
     ]
    }
   ],
   "source": [
    "# Adjust n_estimators hyperparameter \n",
    "regressor = RandomForestRegressor(n_estimators=100, max_depth=6, random_state=1)\n",
    "regressor.fit(X_train, y_train)\n",
    "\n",
    "print(regressor.score(X_train, y_train))\n",
    "print(regressor.score(X_test, y_test))\n"
   ]
  },
  {
   "cell_type": "code",
   "execution_count": 53,
   "metadata": {},
   "outputs": [
    {
     "name": "stdout",
     "output_type": "stream",
     "text": [
      "0.5916580680003702\n",
      "0.49757878849233045\n"
     ]
    }
   ],
   "source": [
    "# Adjust maxdepth hyperparameter \n",
    "regressor = RandomForestRegressor(n_estimators=100, max_depth=12, random_state=1)\n",
    "regressor.fit(X_train, y_train)\n",
    "\n",
    "print(regressor.score(X_train, y_train))\n",
    "print(regressor.score(X_test, y_test))\n"
   ]
  },
  {
   "cell_type": "code",
   "execution_count": null,
   "metadata": {},
   "outputs": [
    {
     "name": "stdout",
     "output_type": "stream",
     "text": [
      "0.8865353555100816\n",
      "0.4910426854318589\n"
     ]
    }
   ],
   "source": [
    "# Adjust maxdepth hyperparameter \n",
    "regressor = RandomForestRegressor(n_estimators=100, max_depth=24, random_state=1)\n",
    "regressor.fit(X_train, y_train)\n",
    "\n",
    "print(regressor.score(X_train, y_train))\n",
    "print(regressor.score(X_test, y_test))\n"
   ]
  },
  {
   "cell_type": "code",
   "execution_count": 54,
   "metadata": {},
   "outputs": [
    {
     "name": "stdout",
     "output_type": "stream",
     "text": [
      "0.77360914727663\n",
      "0.49488156269258476\n"
     ]
    }
   ],
   "source": [
    "# Adjust maxdepth hyperparameter \n",
    "regressor = RandomForestRegressor(n_estimators=100, max_depth=18, random_state=1)\n",
    "regressor.fit(X_train, y_train)\n",
    "\n",
    "print(regressor.score(X_train, y_train))\n",
    "print(regressor.score(X_test, y_test))\n"
   ]
  },
  {
   "cell_type": "code",
   "execution_count": 55,
   "metadata": {},
   "outputs": [
    {
     "name": "stdout",
     "output_type": "stream",
     "text": [
      "0.6824089618202811\n",
      "0.4968218651007954\n"
     ]
    }
   ],
   "source": [
    "# Adjust maxdepth hyperparameter \n",
    "regressor = RandomForestRegressor(n_estimators=100, max_depth=15, random_state=1)\n",
    "regressor.fit(X_train, y_train)\n",
    "\n",
    "print(regressor.score(X_train, y_train))\n",
    "print(regressor.score(X_test, y_test))\n"
   ]
  },
  {
   "cell_type": "code",
   "execution_count": 56,
   "metadata": {},
   "outputs": [
    {
     "name": "stdout",
     "output_type": "stream",
     "text": [
      "0.5275459363914689\n",
      "0.49478753712926177\n"
     ]
    }
   ],
   "source": [
    "# Adjust maxdepth hyperparameter \n",
    "regressor = RandomForestRegressor(n_estimators=100, max_depth=9, random_state=1)\n",
    "regressor.fit(X_train, y_train)\n",
    "\n",
    "print(regressor.score(X_train, y_train))\n",
    "print(regressor.score(X_test, y_test))\n"
   ]
  },
  {
   "cell_type": "code",
   "execution_count": 57,
   "metadata": {},
   "outputs": [
    {
     "name": "stdout",
     "output_type": "stream",
     "text": [
      "0.5665687680914301\n",
      "0.49751379830198234\n"
     ]
    }
   ],
   "source": [
    "# Adjust maxdepth hyperparameter \n",
    "regressor = RandomForestRegressor(n_estimators=100, max_depth=11, random_state=1)\n",
    "regressor.fit(X_train, y_train)\n",
    "\n",
    "print(regressor.score(X_train, y_train))\n",
    "print(regressor.score(X_test, y_test))\n"
   ]
  },
  {
   "cell_type": "code",
   "execution_count": 58,
   "metadata": {},
   "outputs": [
    {
     "name": "stdout",
     "output_type": "stream",
     "text": [
      "0.620285802616434\n",
      "0.49765475817884824\n"
     ]
    }
   ],
   "source": [
    "# Adjust maxdepth hyperparameter \n",
    "regressor = RandomForestRegressor(n_estimators=100, max_depth=13, random_state=1)\n",
    "regressor.fit(X_train, y_train)\n",
    "\n",
    "print(regressor.score(X_train, y_train))\n",
    "print(regressor.score(X_test, y_test))\n"
   ]
  },
  {
   "cell_type": "code",
   "execution_count": 59,
   "metadata": {},
   "outputs": [
    {
     "name": "stdout",
     "output_type": "stream",
     "text": [
      "0.6510269770332092\n",
      "0.49765596105828325\n"
     ]
    }
   ],
   "source": [
    "# Adjust maxdepth hyperparameter \n",
    "regressor = RandomForestRegressor(n_estimators=100, max_depth=14, random_state=1)\n",
    "regressor.fit(X_train, y_train)\n",
    "\n",
    "print(regressor.score(X_train, y_train))\n",
    "print(regressor.score(X_test, y_test))\n"
   ]
  },
  {
   "cell_type": "code",
   "execution_count": 60,
   "metadata": {},
   "outputs": [
    {
     "name": "stdout",
     "output_type": "stream",
     "text": [
      "0.6120794780648856\n",
      "0.4981907287531276\n"
     ]
    }
   ],
   "source": [
    "# Increase minsample hyperparameter \n",
    "regressor = RandomForestRegressor(min_samples_split=4, n_estimators=100, max_depth=14, random_state=1)\n",
    "regressor.fit(X_train, y_train)\n",
    "\n",
    "print(regressor.score(X_train, y_train))\n",
    "print(regressor.score(X_test, y_test))\n"
   ]
  },
  {
   "cell_type": "code",
   "execution_count": 61,
   "metadata": {},
   "outputs": [
    {
     "name": "stdout",
     "output_type": "stream",
     "text": [
      "0.5844140635195508\n",
      "0.498332679074216\n"
     ]
    }
   ],
   "source": [
    "# Increase minsample hyperparameter \n",
    "regressor = RandomForestRegressor(min_samples_split=8, n_estimators=100, max_depth=14, random_state=1)\n",
    "regressor.fit(X_train, y_train)\n",
    "\n",
    "print(regressor.score(X_train, y_train))\n",
    "print(regressor.score(X_test, y_test))\n"
   ]
  },
  {
   "cell_type": "code",
   "execution_count": 62,
   "metadata": {},
   "outputs": [
    {
     "name": "stdout",
     "output_type": "stream",
     "text": [
      "0.5635026875044423\n",
      "0.4985052341323545\n"
     ]
    }
   ],
   "source": [
    "# Increase minsample hyperparameter \n",
    "regressor = RandomForestRegressor(min_samples_split=16, n_estimators=100, max_depth=14, random_state=1)\n",
    "regressor.fit(X_train, y_train)\n",
    "\n",
    "print(regressor.score(X_train, y_train))\n",
    "print(regressor.score(X_test, y_test))\n"
   ]
  },
  {
   "cell_type": "code",
   "execution_count": 170,
   "metadata": {},
   "outputs": [
    {
     "name": "stdout",
     "output_type": "stream",
     "text": [
      "0.5434997293363846\n",
      "0.4942433576572282\n"
     ]
    }
   ],
   "source": [
    "regressor = RandomForestRegressor(min_samples_split=32, n_estimators=100, max_depth=14, random_state=1)\n",
    "regressor.fit(X_train, y_train)\n",
    "\n",
    "print(regressor.score(X_train, y_train))\n",
    "print(regressor.score(X_test, y_test))\n"
   ]
  },
  {
   "cell_type": "code",
   "execution_count": 64,
   "metadata": {},
   "outputs": [
    {
     "name": "stdout",
     "output_type": "stream",
     "text": [
      "0.5331422236336385\n",
      "0.49868539614909063\n"
     ]
    }
   ],
   "source": [
    "# Increase minsample hyperparameter \n",
    "regressor = RandomForestRegressor(min_samples_split=64, n_estimators=100, max_depth=14, random_state=1)\n",
    "regressor.fit(X_train, y_train)\n",
    "\n",
    "print(regressor.score(X_train, y_train))\n",
    "print(regressor.score(X_test, y_test))\n"
   ]
  },
  {
   "cell_type": "code",
   "execution_count": 65,
   "metadata": {},
   "outputs": [
    {
     "name": "stdout",
     "output_type": "stream",
     "text": [
      "0.5263367168348195\n",
      "0.47409286087531943\n"
     ]
    }
   ],
   "source": [
    "# Change hyperparameter bootstrap\n",
    "regressor = RandomForestRegressor(bootstrap=False, min_samples_split=64, n_estimators=100, max_depth=14, random_state=1)\n",
    "regressor.fit(X_train, y_train)\n",
    "\n",
    "print(regressor.score(X_train, y_train))\n",
    "print(regressor.score(X_test, y_test))\n"
   ]
  },
  {
   "cell_type": "code",
   "execution_count": 254,
   "metadata": {},
   "outputs": [
    {
     "name": "stdout",
     "output_type": "stream",
     "text": [
      "0.5291355432607758\n",
      "0.49195922629093736\n"
     ]
    }
   ],
   "source": [
    "# Adjust max_depth hyperparameter\n",
    "regressor = RandomForestRegressor(min_samples_split=64, n_estimators=100, max_depth=14, random_state=1)\n",
    "regressor.fit(X_train, y_train)\n",
    "\n",
    "print(regressor.score(X_train, y_train))\n",
    "print(regressor.score(X_test, y_test))\n"
   ]
  },
  {
   "cell_type": "code",
   "execution_count": 255,
   "metadata": {},
   "outputs": [
    {
     "name": "stdout",
     "output_type": "stream",
     "text": [
      "0.5254744507852166\n",
      "0.4917558053879798\n"
     ]
    }
   ],
   "source": [
    "# Adjust max_depth hyperparameter\n",
    "regressor = RandomForestRegressor(min_samples_split=64, n_estimators=100, max_depth=13, random_state=1)\n",
    "regressor.fit(X_train, y_train)\n",
    "\n",
    "print(regressor.score(X_train, y_train))\n",
    "print(regressor.score(X_test, y_test))\n"
   ]
  },
  {
   "cell_type": "code",
   "execution_count": 256,
   "metadata": {},
   "outputs": [
    {
     "name": "stdout",
     "output_type": "stream",
     "text": [
      "0.5354377693967467\n",
      "0.4920387270805088\n"
     ]
    }
   ],
   "source": [
    "# Adjust max_depth hyperparameter\n",
    "regressor = RandomForestRegressor(min_samples_split=64, n_estimators=100, max_depth=16, random_state=1)\n",
    "regressor.fit(X_train, y_train)\n",
    "\n",
    "print(regressor.score(X_train, y_train))\n",
    "print(regressor.score(X_test, y_test))\n"
   ]
  },
  {
   "cell_type": "code",
   "execution_count": 257,
   "metadata": {},
   "outputs": [
    {
     "name": "stdout",
     "output_type": "stream",
     "text": [
      "0.5324817682523383\n",
      "0.4919741718859939\n"
     ]
    }
   ],
   "source": [
    "# Adjust max_depth hyperparameter\n",
    "regressor = RandomForestRegressor(min_samples_split=64, n_estimators=100, max_depth=15, random_state=1)\n",
    "regressor.fit(X_train, y_train)\n",
    "\n",
    "print(regressor.score(X_train, y_train))\n",
    "print(regressor.score(X_test, y_test))\n"
   ]
  },
  {
   "cell_type": "code",
   "execution_count": 258,
   "metadata": {},
   "outputs": [
    {
     "name": "stdout",
     "output_type": "stream",
     "text": [
      "0.5379295732312334\n",
      "0.492148147514737\n"
     ]
    }
   ],
   "source": [
    "# Adjust max_depth hyperparameter\n",
    "regressor = RandomForestRegressor(min_samples_split=64, n_estimators=100, max_depth=17, random_state=1)\n",
    "regressor.fit(X_train, y_train)\n",
    "\n",
    "print(regressor.score(X_train, y_train))\n",
    "print(regressor.score(X_test, y_test))\n"
   ]
  },
  {
   "cell_type": "code",
   "execution_count": 259,
   "metadata": {},
   "outputs": [
    {
     "name": "stdout",
     "output_type": "stream",
     "text": [
      "0.5400556234809846\n",
      "0.49217173919158036\n"
     ]
    }
   ],
   "source": [
    "# Adjust max_depth hyperparameter\n",
    "regressor = RandomForestRegressor(min_samples_split=64, n_estimators=100, max_depth=18, random_state=1)\n",
    "regressor.fit(X_train, y_train)\n",
    "\n",
    "print(regressor.score(X_train, y_train))\n",
    "print(regressor.score(X_test, y_test))\n"
   ]
  },
  {
   "cell_type": "code",
   "execution_count": 260,
   "metadata": {},
   "outputs": [
    {
     "name": "stdout",
     "output_type": "stream",
     "text": [
      "0.541691166106442\n",
      "0.49217178754359664\n"
     ]
    }
   ],
   "source": [
    "# Adjust max_depth hyperparameter\n",
    "regressor = RandomForestRegressor(min_samples_split=64, n_estimators=100, max_depth=19, random_state=1)\n",
    "regressor.fit(X_train, y_train)\n",
    "\n",
    "print(regressor.score(X_train, y_train))\n",
    "print(regressor.score(X_test, y_test))\n"
   ]
  },
  {
   "cell_type": "code",
   "execution_count": 270,
   "metadata": {},
   "outputs": [
    {
     "name": "stdout",
     "output_type": "stream",
     "text": [
      "0.5419383863004906\n",
      "0.49235887877516527\n"
     ]
    }
   ],
   "source": [
    "# Adjust max_depth hyperparameter\n",
    "regressor = RandomForestRegressor(min_samples_split=64, n_estimators=200, max_depth=19, random_state=1)\n",
    "regressor.fit(X_train, y_train)\n",
    "\n",
    "print(regressor.score(X_train, y_train))\n",
    "print(regressor.score(X_test, y_test))\n"
   ]
  },
  {
   "cell_type": "code",
   "execution_count": 272,
   "metadata": {},
   "outputs": [
    {
     "data": {
      "text/plain": [
       "['20220818_randomforest_model.joblib']"
      ]
     },
     "execution_count": 272,
     "metadata": {},
     "output_type": "execute_result"
    }
   ],
   "source": [
    "#pickle model to disk\n",
    "dump(regressor, '20220818_randomforest_model.joblib')"
   ]
  },
  {
   "cell_type": "code",
   "execution_count": null,
   "metadata": {},
   "outputs": [],
   "source": []
  }
 ],
 "metadata": {
  "kernelspec": {
   "display_name": "Python 3.7.13 ('ffpred')",
   "language": "python",
   "name": "python3"
  },
  "language_info": {
   "codemirror_mode": {
    "name": "ipython",
    "version": 3
   },
   "file_extension": ".py",
   "mimetype": "text/x-python",
   "name": "python",
   "nbconvert_exporter": "python",
   "pygments_lexer": "ipython3",
   "version": "3.7.13"
  },
  "orig_nbformat": 4,
  "vscode": {
   "interpreter": {
    "hash": "fb5b2e16482bcd50eb78b01591c3b490f3ef6ecca47db368718710c0c1505289"
   }
  }
 },
 "nbformat": 4,
 "nbformat_minor": 2
}
