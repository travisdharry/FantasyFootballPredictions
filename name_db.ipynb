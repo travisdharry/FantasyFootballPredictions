{
 "cells": [
  {
   "cell_type": "code",
   "execution_count": 39,
   "metadata": {},
   "outputs": [],
   "source": [
    "import pandas as pd\n",
    "import numpy as np"
   ]
  },
  {
   "cell_type": "code",
   "execution_count": 5,
   "metadata": {},
   "outputs": [],
   "source": [
    "xl1 = pd.read_csv('data_cleaned/modelSource.csv', index_col=0)\n",
    "xl2 = pd.read_csv('data_raw/ages_historical.csv', index_col=0)"
   ]
  },
  {
   "cell_type": "code",
   "execution_count": 50,
   "metadata": {},
   "outputs": [],
   "source": [
    "df1 = xl1[['player', 'season', 'week', 'team', 'pos']]\n",
    "df2 = xl2[['Player', 'Season', 'Age']]\n"
   ]
  },
  {
   "cell_type": "code",
   "execution_count": 51,
   "metadata": {},
   "outputs": [],
   "source": [
    "df1 = df1.drop_duplicates(subset=['player', 'season', 'team', 'pos'])\n",
    "df2 = df2.drop_duplicates(['Player', 'Season'])"
   ]
  },
  {
   "cell_type": "code",
   "execution_count": 58,
   "metadata": {},
   "outputs": [
    {
     "data": {
      "text/html": [
       "<div>\n",
       "<style scoped>\n",
       "    .dataframe tbody tr th:only-of-type {\n",
       "        vertical-align: middle;\n",
       "    }\n",
       "\n",
       "    .dataframe tbody tr th {\n",
       "        vertical-align: top;\n",
       "    }\n",
       "\n",
       "    .dataframe thead th {\n",
       "        text-align: right;\n",
       "    }\n",
       "</style>\n",
       "<table border=\"1\" class=\"dataframe\">\n",
       "  <thead>\n",
       "    <tr style=\"text-align: right;\">\n",
       "      <th></th>\n",
       "      <th>player</th>\n",
       "      <th>season</th>\n",
       "      <th>week</th>\n",
       "      <th>team</th>\n",
       "      <th>pos</th>\n",
       "      <th>Player</th>\n",
       "      <th>Season</th>\n",
       "      <th>Age</th>\n",
       "    </tr>\n",
       "  </thead>\n",
       "  <tbody>\n",
       "    <tr>\n",
       "      <th>0</th>\n",
       "      <td>Matt Ryan</td>\n",
       "      <td>2012.0</td>\n",
       "      <td>1.0</td>\n",
       "      <td>ATL</td>\n",
       "      <td>QB</td>\n",
       "      <td>Matt Ryan</td>\n",
       "      <td>2012.0</td>\n",
       "      <td>27.0</td>\n",
       "    </tr>\n",
       "    <tr>\n",
       "      <th>1</th>\n",
       "      <td>Tony Romo</td>\n",
       "      <td>2012.0</td>\n",
       "      <td>1.0</td>\n",
       "      <td>DAL</td>\n",
       "      <td>QB</td>\n",
       "      <td>Tony Romo</td>\n",
       "      <td>2012.0</td>\n",
       "      <td>32.0</td>\n",
       "    </tr>\n",
       "    <tr>\n",
       "      <th>2</th>\n",
       "      <td>Robert Griffin III</td>\n",
       "      <td>2012.0</td>\n",
       "      <td>1.0</td>\n",
       "      <td>WAS</td>\n",
       "      <td>QB</td>\n",
       "      <td>Robert Griffin III</td>\n",
       "      <td>2012.0</td>\n",
       "      <td>22.0</td>\n",
       "    </tr>\n",
       "    <tr>\n",
       "      <th>3</th>\n",
       "      <td>Drew Brees</td>\n",
       "      <td>2012.0</td>\n",
       "      <td>1.0</td>\n",
       "      <td>NOS</td>\n",
       "      <td>QB</td>\n",
       "      <td>Drew Brees</td>\n",
       "      <td>2012.0</td>\n",
       "      <td>33.0</td>\n",
       "    </tr>\n",
       "    <tr>\n",
       "      <th>4</th>\n",
       "      <td>Aaron Rodgers</td>\n",
       "      <td>2012.0</td>\n",
       "      <td>1.0</td>\n",
       "      <td>GBP</td>\n",
       "      <td>QB</td>\n",
       "      <td>Aaron Rodgers</td>\n",
       "      <td>2012.0</td>\n",
       "      <td>29.0</td>\n",
       "    </tr>\n",
       "    <tr>\n",
       "      <th>...</th>\n",
       "      <td>...</td>\n",
       "      <td>...</td>\n",
       "      <td>...</td>\n",
       "      <td>...</td>\n",
       "      <td>...</td>\n",
       "      <td>...</td>\n",
       "      <td>...</td>\n",
       "      <td>...</td>\n",
       "    </tr>\n",
       "    <tr>\n",
       "      <th>7403</th>\n",
       "      <td>Cleveland BrownsCLE</td>\n",
       "      <td>2021.0</td>\n",
       "      <td>1.0</td>\n",
       "      <td>CLE</td>\n",
       "      <td>DF</td>\n",
       "      <td>NaN</td>\n",
       "      <td>NaN</td>\n",
       "      <td>NaN</td>\n",
       "    </tr>\n",
       "    <tr>\n",
       "      <th>7404</th>\n",
       "      <td>Chicago BearsCHI</td>\n",
       "      <td>2021.0</td>\n",
       "      <td>1.0</td>\n",
       "      <td>CHI</td>\n",
       "      <td>DF</td>\n",
       "      <td>NaN</td>\n",
       "      <td>NaN</td>\n",
       "      <td>NaN</td>\n",
       "    </tr>\n",
       "    <tr>\n",
       "      <th>7405</th>\n",
       "      <td>Jacksonville JaguarsJAX</td>\n",
       "      <td>2021.0</td>\n",
       "      <td>1.0</td>\n",
       "      <td>JAX</td>\n",
       "      <td>DF</td>\n",
       "      <td>NaN</td>\n",
       "      <td>NaN</td>\n",
       "      <td>NaN</td>\n",
       "    </tr>\n",
       "    <tr>\n",
       "      <th>7406</th>\n",
       "      <td>Atlanta FalconsATL</td>\n",
       "      <td>2021.0</td>\n",
       "      <td>1.0</td>\n",
       "      <td>ATL</td>\n",
       "      <td>DF</td>\n",
       "      <td>NaN</td>\n",
       "      <td>NaN</td>\n",
       "      <td>NaN</td>\n",
       "    </tr>\n",
       "    <tr>\n",
       "      <th>7407</th>\n",
       "      <td>Green Bay PackersGB</td>\n",
       "      <td>2021.0</td>\n",
       "      <td>1.0</td>\n",
       "      <td>GBP</td>\n",
       "      <td>DF</td>\n",
       "      <td>NaN</td>\n",
       "      <td>NaN</td>\n",
       "      <td>NaN</td>\n",
       "    </tr>\n",
       "  </tbody>\n",
       "</table>\n",
       "<p>7408 rows × 8 columns</p>\n",
       "</div>"
      ],
      "text/plain": [
       "                       player  season  week team pos              Player  \\\n",
       "0                   Matt Ryan  2012.0   1.0  ATL  QB           Matt Ryan   \n",
       "1                   Tony Romo  2012.0   1.0  DAL  QB           Tony Romo   \n",
       "2          Robert Griffin III  2012.0   1.0  WAS  QB  Robert Griffin III   \n",
       "3                  Drew Brees  2012.0   1.0  NOS  QB          Drew Brees   \n",
       "4               Aaron Rodgers  2012.0   1.0  GBP  QB       Aaron Rodgers   \n",
       "...                       ...     ...   ...  ...  ..                 ...   \n",
       "7403      Cleveland BrownsCLE  2021.0   1.0  CLE  DF                 NaN   \n",
       "7404         Chicago BearsCHI  2021.0   1.0  CHI  DF                 NaN   \n",
       "7405  Jacksonville JaguarsJAX  2021.0   1.0  JAX  DF                 NaN   \n",
       "7406       Atlanta FalconsATL  2021.0   1.0  ATL  DF                 NaN   \n",
       "7407      Green Bay PackersGB  2021.0   1.0  GBP  DF                 NaN   \n",
       "\n",
       "      Season   Age  \n",
       "0     2012.0  27.0  \n",
       "1     2012.0  32.0  \n",
       "2     2012.0  22.0  \n",
       "3     2012.0  33.0  \n",
       "4     2012.0  29.0  \n",
       "...      ...   ...  \n",
       "7403     NaN   NaN  \n",
       "7404     NaN   NaN  \n",
       "7405     NaN   NaN  \n",
       "7406     NaN   NaN  \n",
       "7407     NaN   NaN  \n",
       "\n",
       "[7408 rows x 8 columns]"
      ]
     },
     "execution_count": 58,
     "metadata": {},
     "output_type": "execute_result"
    }
   ],
   "source": [
    "complete = df1.merge(df2, how='left', left_on=['player', 'season'], right_on=['Player', 'Season'])\n",
    "complete"
   ]
  },
  {
   "cell_type": "code",
   "execution_count": 59,
   "metadata": {},
   "outputs": [],
   "source": [
    "complete.loc[complete['pos']=='DF', 'Age'] = 0"
   ]
  },
  {
   "cell_type": "code",
   "execution_count": 61,
   "metadata": {},
   "outputs": [
    {
     "name": "stdout",
     "output_type": "stream",
     "text": [
      "<class 'pandas.core.frame.DataFrame'>\n",
      "Int64Index: 7408 entries, 0 to 7407\n",
      "Data columns (total 8 columns):\n",
      " #   Column  Non-Null Count  Dtype  \n",
      "---  ------  --------------  -----  \n",
      " 0   player  7408 non-null   object \n",
      " 1   season  7408 non-null   float64\n",
      " 2   week    7408 non-null   float64\n",
      " 3   team    7408 non-null   object \n",
      " 4   pos     7408 non-null   object \n",
      " 5   Player  6906 non-null   object \n",
      " 6   Season  6906 non-null   float64\n",
      " 7   Age     7226 non-null   float64\n",
      "dtypes: float64(4), object(4)\n",
      "memory usage: 520.9+ KB\n"
     ]
    }
   ],
   "source": [
    "complete.info()"
   ]
  },
  {
   "cell_type": "code",
   "execution_count": 65,
   "metadata": {},
   "outputs": [
    {
     "data": {
      "text/plain": [
       "array(['Josh Johnson', 'E.J. Manuel', 'Nick Foles', 'Gardner Minshew',\n",
       "       'Phillip Walker', 'D.J. Ware', 'Alexander Green', 'Brit Miller',\n",
       "       'Marcus Thigpen', 'Raheem Mostert', 'Rob Kelley', 'Dan Vitale',\n",
       "       'George Atkinson III', 'Matt Dayes', 'Jeffery Wilson',\n",
       "       'Derrick Henry', 'Benjamin Snell', 'Corey Clement', 'Greg Howell',\n",
       "       'Kerrith Whyte', 'Lamical Perine', 'Anthony McFarland',\n",
       "       'JaMycal Hasty', 'Kenny Gainwell', 'Nate Cottrell',\n",
       "       'Stevie Johnson', 'Lester Jean', 'Edmond Gates', 'Joshua Cribbs',\n",
       "       'Joseph Morgan', 'Devon Wylie', 'Devin Hester', 'Greg Jenkins',\n",
       "       'Philly Brown', 'Walter Powell', 'Isaiah Burse', 'J.J. Nelson',\n",
       "       'Denarius Moore', 'Jacoby Jones', 'Frankie Hammond', 'Matt Slater',\n",
       "       'Keshawn Martin', 'Kalif Raymond', 'JoJo Natson', 'Jesus Wilson',\n",
       "       'Kaelin Clay', 'J.J. Jones', 'Riley McCarron', 'D.J. Chark',\n",
       "       'Ray Ray McCloud', 'Khadarel Hodge', 'J.J. Arcega-Whiteside',\n",
       "       \"D'haquille Williams\", 'Stanley Morgan', 'Cedrick Wilson',\n",
       "       'Greg Dortch', 'John Franklin III', 'Laviska Shenault',\n",
       "       'Henry Ruggs', 'Michael Pittman', 'Lynn Bowden', 'Nick Westbrook',\n",
       "       'DeMichael Harris', 'Dwayne Harris', 'Nsimba Webster',\n",
       "       'Terrace Marshall', 'Bennett Skowronek', 'J.J. Koski',\n",
       "       'Travis Benjamin', 'Benjamin Watson', 'Timothy Wright',\n",
       "       'Harold Hoskins', 'Henry Krieger Coble', 'Chris Herndon IV',\n",
       "       'John Mundt', 'Irv Smith', 'Samuel Sloman', 'Jake Elliott'],\n",
       "      dtype=object)"
      ]
     },
     "execution_count": 65,
     "metadata": {},
     "output_type": "execute_result"
    }
   ],
   "source": [
    "complete.loc[complete['Age'].isnull()]['player'].unique()"
   ]
  },
  {
   "cell_type": "code",
   "execution_count": 120,
   "metadata": {},
   "outputs": [
    {
     "data": {
      "text/html": [
       "<div>\n",
       "<style scoped>\n",
       "    .dataframe tbody tr th:only-of-type {\n",
       "        vertical-align: middle;\n",
       "    }\n",
       "\n",
       "    .dataframe tbody tr th {\n",
       "        vertical-align: top;\n",
       "    }\n",
       "\n",
       "    .dataframe thead th {\n",
       "        text-align: right;\n",
       "    }\n",
       "</style>\n",
       "<table border=\"1\" class=\"dataframe\">\n",
       "  <thead>\n",
       "    <tr style=\"text-align: right;\">\n",
       "      <th></th>\n",
       "      <th>player</th>\n",
       "      <th>season</th>\n",
       "      <th>week</th>\n",
       "      <th>team</th>\n",
       "      <th>pos</th>\n",
       "      <th>Player</th>\n",
       "      <th>Season</th>\n",
       "      <th>Age</th>\n",
       "    </tr>\n",
       "  </thead>\n",
       "  <tbody>\n",
       "    <tr>\n",
       "      <th>4658</th>\n",
       "      <td>Cedrick Wilson</td>\n",
       "      <td>2019.0</td>\n",
       "      <td>6.0</td>\n",
       "      <td>DAL</td>\n",
       "      <td>WR</td>\n",
       "      <td>NaN</td>\n",
       "      <td>NaN</td>\n",
       "      <td>NaN</td>\n",
       "    </tr>\n",
       "    <tr>\n",
       "      <th>4881</th>\n",
       "      <td>Cedrick Wilson</td>\n",
       "      <td>2020.0</td>\n",
       "      <td>3.0</td>\n",
       "      <td>DAL</td>\n",
       "      <td>WR</td>\n",
       "      <td>NaN</td>\n",
       "      <td>NaN</td>\n",
       "      <td>NaN</td>\n",
       "    </tr>\n",
       "    <tr>\n",
       "      <th>5087</th>\n",
       "      <td>Cedrick Wilson</td>\n",
       "      <td>2021.0</td>\n",
       "      <td>1.0</td>\n",
       "      <td>DAL</td>\n",
       "      <td>WR</td>\n",
       "      <td>NaN</td>\n",
       "      <td>NaN</td>\n",
       "      <td>NaN</td>\n",
       "    </tr>\n",
       "  </tbody>\n",
       "</table>\n",
       "</div>"
      ],
      "text/plain": [
       "              player  season  week team pos Player  Season  Age\n",
       "4658  Cedrick Wilson  2019.0   6.0  DAL  WR    NaN     NaN  NaN\n",
       "4881  Cedrick Wilson  2020.0   3.0  DAL  WR    NaN     NaN  NaN\n",
       "5087  Cedrick Wilson  2021.0   1.0  DAL  WR    NaN     NaN  NaN"
      ]
     },
     "execution_count": 120,
     "metadata": {},
     "output_type": "execute_result"
    }
   ],
   "source": [
    "complete.loc[complete['player']==\"Cedrick Wilson\"]"
   ]
  },
  {
   "cell_type": "code",
   "execution_count": 68,
   "metadata": {},
   "outputs": [],
   "source": [
    "#complete = complete.drop(columns=['Player', 'Season'])\n",
    "#complete = complete.dropna()\n"
   ]
  },
  {
   "cell_type": "code",
   "execution_count": null,
   "metadata": {},
   "outputs": [],
   "source": []
  },
  {
   "cell_type": "code",
   "execution_count": 49,
   "metadata": {},
   "outputs": [
    {
     "data": {
      "text/plain": [
       "7408"
      ]
     },
     "execution_count": 49,
     "metadata": {},
     "output_type": "execute_result"
    }
   ],
   "source": [
    "len(df1)"
   ]
  },
  {
   "cell_type": "code",
   "execution_count": null,
   "metadata": {},
   "outputs": [],
   "source": []
  }
 ],
 "metadata": {
  "kernelspec": {
   "display_name": "Python 3.7.13 ('ffpred')",
   "language": "python",
   "name": "python3"
  },
  "language_info": {
   "codemirror_mode": {
    "name": "ipython",
    "version": 3
   },
   "file_extension": ".py",
   "mimetype": "text/x-python",
   "name": "python",
   "nbconvert_exporter": "python",
   "pygments_lexer": "ipython3",
   "version": "3.7.13"
  },
  "orig_nbformat": 4,
  "vscode": {
   "interpreter": {
    "hash": "fb5b2e16482bcd50eb78b01591c3b490f3ef6ecca47db368718710c0c1505289"
   }
  }
 },
 "nbformat": 4,
 "nbformat_minor": 2
}
